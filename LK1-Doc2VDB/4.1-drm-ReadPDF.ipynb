{
 "cells": [
  {
   "metadata": {
    "ExecuteTime": {
     "end_time": "2025-02-24T13:24:08.173247Z",
     "start_time": "2025-02-24T13:24:00.596459Z"
    }
   },
   "cell_type": "code",
   "source": [
    "import glob\n",
    "from pathlib import Path\n",
    "from llama_index.readers.file import PDFReader\n",
    "from sentence_transformers import SentenceTransformer\n",
    "from qdrant_client import QdrantClient\n",
    "from qdrant_client.http.models import VectorParams, Distance\n",
    "from tqdm import tqdm\n",
    "\n",
    "pdf_folder = \"../data/raw/documents\"\n",
    "pdf_files = glob.glob(f\"{pdf_folder}/*.pdf\")\n",
    "print(f\"Founded {len(pdf_files)} file PDF.\")\n",
    "\n"
   ],
   "id": "c51e91cdf44db2c9",
   "outputs": [
    {
     "name": "stderr",
     "output_type": "stream",
     "text": [
      "/home/dzakirm/anaconda3/envs/satdat2024/lib/python3.10/site-packages/sentence_transformers/cross_encoder/CrossEncoder.py:11: TqdmExperimentalWarning: Using `tqdm.autonotebook.tqdm` in notebook mode. Use `tqdm.tqdm` instead to force console mode (e.g. in jupyter console)\n",
      "  from tqdm.autonotebook import tqdm, trange\n",
      "2025-02-24 20:24:05.976446: I tensorflow/core/util/port.cc:113] oneDNN custom operations are on. You may see slightly different numerical results due to floating-point round-off errors from different computation orders. To turn them off, set the environment variable `TF_ENABLE_ONEDNN_OPTS=0`.\n",
      "2025-02-24 20:24:06.033237: I tensorflow/core/platform/cpu_feature_guard.cc:210] This TensorFlow binary is optimized to use available CPU instructions in performance-critical operations.\n",
      "To enable the following instructions: AVX2 AVX_VNNI FMA, in other operations, rebuild TensorFlow with the appropriate compiler flags.\n",
      "2025-02-24 20:24:06.942301: W tensorflow/compiler/tf2tensorrt/utils/py_utils.cc:38] TF-TRT Warning: Could not find TensorRT\n"
     ]
    },
    {
     "name": "stdout",
     "output_type": "stream",
     "text": [
      "Founded 6 file PDF.\n"
     ]
    }
   ],
   "execution_count": 1
  },
  {
   "metadata": {
    "ExecuteTime": {
     "end_time": "2025-02-24T13:24:19.016755Z",
     "start_time": "2025-02-24T13:24:08.186016Z"
    }
   },
   "cell_type": "code",
   "source": [
    "loader = PDFReader()\n",
    "\n",
    "documents = []\n",
    "for pdf_file in tqdm(pdf_files):\n",
    "    file_path = Path(pdf_file)\n",
    "    docs = loader.load_data(file=file_path)\n",
    "    documents.extend(docs)\n",
    "print(f\"Total Extracted Documents: {len(documents)}\")\n",
    "\n",
    "model = SentenceTransformer('all-MiniLM-L6-v2')\n",
    "\n",
    "sample_embedding = model.encode(documents[0].text)\n",
    "vector_dim = len(sample_embedding)\n",
    "\n",
    "client = QdrantClient(host=\"localhost\", port=6333)\n",
    "collection_name = \"pdf_collection\"\n",
    "client.create_collection(\n",
    "    collection_name=collection_name,\n",
    "    vectors_config=VectorParams(size=vector_dim, distance=Distance.COSINE)\n",
    ")\n"
   ],
   "id": "38f5afe638b6f6d2",
   "outputs": [
    {
     "name": "stderr",
     "output_type": "stream",
     "text": [
      " 67%|██████▋   | 4/6 [00:02<00:01,  1.92it/s]Ignoring wrong pointing object 6 0 (offset 0)\n",
      "Ignoring wrong pointing object 8 0 (offset 0)\n",
      "Ignoring wrong pointing object 10 0 (offset 0)\n",
      "Ignoring wrong pointing object 12 0 (offset 0)\n",
      "Ignoring wrong pointing object 19 0 (offset 0)\n",
      "Ignoring wrong pointing object 41 0 (offset 0)\n",
      "Ignoring wrong pointing object 43 0 (offset 0)\n",
      "Ignoring wrong pointing object 45 0 (offset 0)\n",
      "Ignoring wrong pointing object 47 0 (offset 0)\n",
      "Ignoring wrong pointing object 59 0 (offset 0)\n",
      "Ignoring wrong pointing object 64 0 (offset 0)\n",
      "Ignoring wrong pointing object 75 0 (offset 0)\n",
      "Ignoring wrong pointing object 79 0 (offset 0)\n",
      "Ignoring wrong pointing object 81 0 (offset 0)\n",
      "Ignoring wrong pointing object 97 0 (offset 0)\n",
      "Ignoring wrong pointing object 109 0 (offset 0)\n",
      "Ignoring wrong pointing object 111 0 (offset 0)\n",
      "Ignoring wrong pointing object 113 0 (offset 0)\n",
      "Ignoring wrong pointing object 128 0 (offset 0)\n",
      "Ignoring wrong pointing object 171 0 (offset 0)\n",
      "Ignoring wrong pointing object 173 0 (offset 0)\n",
      "Ignoring wrong pointing object 184 0 (offset 0)\n",
      "Ignoring wrong pointing object 186 0 (offset 0)\n",
      "Ignoring wrong pointing object 188 0 (offset 0)\n",
      "Ignoring wrong pointing object 196 0 (offset 0)\n",
      "100%|██████████| 6/6 [00:05<00:00,  1.01it/s]\n"
     ]
    },
    {
     "name": "stdout",
     "output_type": "stream",
     "text": [
      "Total Extracted Documents: 91\n"
     ]
    },
    {
     "name": "stderr",
     "output_type": "stream",
     "text": [
      "/home/dzakirm/anaconda3/envs/satdat2024/lib/python3.10/site-packages/huggingface_hub/file_download.py:1132: FutureWarning: `resume_download` is deprecated and will be removed in version 1.0.0. Downloads always resume when possible. If you want to force a new download, use `force_download=True`.\n",
      "  warnings.warn(\n"
     ]
    },
    {
     "data": {
      "text/plain": [
       "True"
      ]
     },
     "execution_count": 2,
     "metadata": {},
     "output_type": "execute_result"
    }
   ],
   "execution_count": 2
  },
  {
   "metadata": {
    "ExecuteTime": {
     "end_time": "2025-02-24T13:24:20.202378Z",
     "start_time": "2025-02-24T13:24:19.223349Z"
    }
   },
   "cell_type": "code",
   "source": [
    "points = []\n",
    "doc_id = 0\n",
    "for doc in tqdm(documents):\n",
    "    text = doc.text\n",
    "    embedding = model.encode(text)\n",
    "    filename = getattr(doc, \"extra_info\", {}).get(\"file_name\", \"unknown\")\n",
    "\n",
    "    point = {\n",
    "        \"id\": doc_id,\n",
    "        \"vector\": embedding.tolist(),\n",
    "        \"payload\": {\n",
    "            \"filename\": filename,\n",
    "            \"text\": text\n",
    "        }\n",
    "    }\n",
    "    points.append(point)\n",
    "    doc_id += 1\n",
    "\n",
    "batch_size = 100\n",
    "for i in tqdm(range(0, len(points), batch_size)):\n",
    "    batch = points[i:i+batch_size]\n",
    "    client.upsert(collection_name=collection_name, points=batch)"
   ],
   "id": "6c49ffecf088f6e8",
   "outputs": [
    {
     "name": "stderr",
     "output_type": "stream",
     "text": [
      "  0%|          | 0/91 [00:00<?, ?it/s]/tmp/ipykernel_53134/346957233.py:6: DeprecationWarning: Call to deprecated function (or staticmethod) extra_info. ('extra_info' is deprecated, use 'metadata' instead.) -- Deprecated since version 0.12.2.\n",
      "  filename = getattr(doc, \"extra_info\", {}).get(\"file_name\", \"unknown\")\n",
      "100%|██████████| 91/91 [00:00<00:00, 98.26it/s] \n",
      "100%|██████████| 1/1 [00:00<00:00, 24.71it/s]\n"
     ]
    }
   ],
   "execution_count": 3
  }
 ],
 "metadata": {
  "kernelspec": {
   "display_name": "Python 3",
   "language": "python",
   "name": "python3"
  },
  "language_info": {
   "codemirror_mode": {
    "name": "ipython",
    "version": 2
   },
   "file_extension": ".py",
   "mimetype": "text/x-python",
   "name": "python",
   "nbconvert_exporter": "python",
   "pygments_lexer": "ipython2",
   "version": "2.7.6"
  }
 },
 "nbformat": 4,
 "nbformat_minor": 5
}
