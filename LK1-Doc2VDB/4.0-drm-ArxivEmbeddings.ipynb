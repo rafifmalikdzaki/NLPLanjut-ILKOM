{
 "cells": [
  {
   "metadata": {
    "ExecuteTime": {
     "end_time": "2025-02-24T13:58:12.104957Z",
     "start_time": "2025-02-24T13:58:05.356516Z"
    }
   },
   "cell_type": "code",
   "source": [
    "import pandas as pd\n",
    "from qdrant_client import QdrantClient\n",
    "from qdrant_client.http.models import VectorParams, Distance\n",
    "from sentence_transformers import SentenceTransformer\n",
    "from tqdm import tqdm\n",
    "import numpy as np\n",
    "import scipy.sparse as sp\n"
   ],
   "id": "ac0819b0fddbbeb3",
   "outputs": [
    {
     "name": "stderr",
     "output_type": "stream",
     "text": [
      "/home/dzakirm/anaconda3/envs/satdat2024/lib/python3.10/site-packages/sentence_transformers/cross_encoder/CrossEncoder.py:11: TqdmExperimentalWarning: Using `tqdm.autonotebook.tqdm` in notebook mode. Use `tqdm.tqdm` instead to force console mode (e.g. in jupyter console)\n",
      "  from tqdm.autonotebook import tqdm, trange\n",
      "2025-02-24 20:58:10.391602: I tensorflow/core/util/port.cc:113] oneDNN custom operations are on. You may see slightly different numerical results due to floating-point round-off errors from different computation orders. To turn them off, set the environment variable `TF_ENABLE_ONEDNN_OPTS=0`.\n",
      "2025-02-24 20:58:10.453858: I tensorflow/core/platform/cpu_feature_guard.cc:210] This TensorFlow binary is optimized to use available CPU instructions in performance-critical operations.\n",
      "To enable the following instructions: AVX2 AVX_VNNI FMA, in other operations, rebuild TensorFlow with the appropriate compiler flags.\n",
      "2025-02-24 20:58:11.410532: W tensorflow/compiler/tf2tensorrt/utils/py_utils.cc:38] TF-TRT Warning: Could not find TensorRT\n"
     ]
    }
   ],
   "execution_count": 1
  },
  {
   "metadata": {
    "ExecuteTime": {
     "end_time": "2025-02-24T13:58:13.909267Z",
     "start_time": "2025-02-24T13:58:12.114210Z"
    }
   },
   "cell_type": "code",
   "source": [
    "df = pd.read_parquet(\"../data/processed/arxiv-abstracts-cleaned_v2.parquet\", columns=[\"id\", \"authors\",\"title_clean\", \"abstract_clean\"])\n",
    "\n",
    "client = QdrantClient(host=\"localhost\", port=6333)\n",
    "\n",
    "collection_count = \"arxiv_count_vector\"\n",
    "collection_tfidf = \"arxiv_tfidf\"\n",
    "collection_embedding = \"arxiv_embedding\"\n",
    "\n",
    "# sparse_cv = sp.load_npz(\"../data/processed/count_vectorizer.npz\")\n",
    "# sparse_tfidf = sp.load_npz(\"../data/processed/tfidf_vectorizer.npz\")\n",
    "#\n",
    "# dense_cv = sparse_cv.toarray()\n",
    "# dense_tfidf = sparse_tfidf.toarray()"
   ],
   "id": "6370e8c69733ee8a",
   "outputs": [],
   "execution_count": 2
  },
  {
   "metadata": {
    "ExecuteTime": {
     "end_time": "2025-02-24T13:58:14.148991Z",
     "start_time": "2025-02-24T13:58:14.136736Z"
    }
   },
   "cell_type": "code",
   "source": "df",
   "id": "763a26e190abf0a0",
   "outputs": [
    {
     "data": {
      "text/plain": [
       "                      id                                            authors  \\\n",
       "0             1606.02306                                         Shahar Hod   \n",
       "1         hep-ph/9812388  W.M. Alberico, M.B. Barbaro, S.M. Bilenky, J.A...   \n",
       "2       astro-ph/0208171  M. Boettcher (Rice Univ. / Ohio Univ.), R. Muk...   \n",
       "3              0912.2791  Dong-Keun Ki, Seung-Geol Nam, Hu-Jong Lee, and...   \n",
       "4              0707.3555                     A. Russell, Vladimir I. Fal'ko   \n",
       "...                  ...                                                ...   \n",
       "499995        2101.12190  Xuanqiang Zhao, Benchi Zhao, Zihe Wang, Zhixin...   \n",
       "499996        1611.06158  Manuel G\\\"unther and Andras Rozsa and Terrance...   \n",
       "499997        1907.06113                                   Yiannis Loizides   \n",
       "499998  cond-mat/9902090                 I. Knittel, F. Gagel, M. Schreiber   \n",
       "499999        1809.01264  V. Rosero, K. E. I. Tanaka, J. C. Tan, J. Marv...   \n",
       "\n",
       "                                              title_clean  \\\n",
       "0       the superradiant instability regime of the spi...   \n",
       "1       strange form factors of the proton a new analy...   \n",
       "2       predictions of the highenergy emission from bl...   \n",
       "3       dependence of quantumhall conductance on the e...   \n",
       "4       power dependence of the photocurrent lineshape...   \n",
       "...                                                   ...   \n",
       "499995  practical distributed quantum information proc...   \n",
       "499996  affact alignmentfree facial attribute classifi...   \n",
       "499997          quasipolynomials and the singular theorem   \n",
       "499998  quantum transport and momentum conserving deph...   \n",
       "499999  the soma radio survey i comprehensive seds of ...   \n",
       "\n",
       "                                           abstract_clean  \n",
       "0       spinning kerr black holes are known to be supe...  \n",
       "1       we consider ratios of elastic neutrinoantineut...  \n",
       "2       spectral fitting of the radio through hard xra...  \n",
       "3       by using fourterminal configurations we invest...  \n",
       "4       we propose a kinetic theory to describe the po...  \n",
       "...                                                   ...  \n",
       "499995  distributed quantum information processing is ...  \n",
       "499996  facial attributes are softbiometrics that allo...  \n",
       "499997  in this short note we revisit the shiftdesingu...  \n",
       "499998  we study numerically the influence of momentum...  \n",
       "499999  we study centimeter continuum emission of eigh...  \n",
       "\n",
       "[500000 rows x 4 columns]"
      ],
      "text/html": [
       "<div>\n",
       "<style scoped>\n",
       "    .dataframe tbody tr th:only-of-type {\n",
       "        vertical-align: middle;\n",
       "    }\n",
       "\n",
       "    .dataframe tbody tr th {\n",
       "        vertical-align: top;\n",
       "    }\n",
       "\n",
       "    .dataframe thead th {\n",
       "        text-align: right;\n",
       "    }\n",
       "</style>\n",
       "<table border=\"1\" class=\"dataframe\">\n",
       "  <thead>\n",
       "    <tr style=\"text-align: right;\">\n",
       "      <th></th>\n",
       "      <th>id</th>\n",
       "      <th>authors</th>\n",
       "      <th>title_clean</th>\n",
       "      <th>abstract_clean</th>\n",
       "    </tr>\n",
       "  </thead>\n",
       "  <tbody>\n",
       "    <tr>\n",
       "      <th>0</th>\n",
       "      <td>1606.02306</td>\n",
       "      <td>Shahar Hod</td>\n",
       "      <td>the superradiant instability regime of the spi...</td>\n",
       "      <td>spinning kerr black holes are known to be supe...</td>\n",
       "    </tr>\n",
       "    <tr>\n",
       "      <th>1</th>\n",
       "      <td>hep-ph/9812388</td>\n",
       "      <td>W.M. Alberico, M.B. Barbaro, S.M. Bilenky, J.A...</td>\n",
       "      <td>strange form factors of the proton a new analy...</td>\n",
       "      <td>we consider ratios of elastic neutrinoantineut...</td>\n",
       "    </tr>\n",
       "    <tr>\n",
       "      <th>2</th>\n",
       "      <td>astro-ph/0208171</td>\n",
       "      <td>M. Boettcher (Rice Univ. / Ohio Univ.), R. Muk...</td>\n",
       "      <td>predictions of the highenergy emission from bl...</td>\n",
       "      <td>spectral fitting of the radio through hard xra...</td>\n",
       "    </tr>\n",
       "    <tr>\n",
       "      <th>3</th>\n",
       "      <td>0912.2791</td>\n",
       "      <td>Dong-Keun Ki, Seung-Geol Nam, Hu-Jong Lee, and...</td>\n",
       "      <td>dependence of quantumhall conductance on the e...</td>\n",
       "      <td>by using fourterminal configurations we invest...</td>\n",
       "    </tr>\n",
       "    <tr>\n",
       "      <th>4</th>\n",
       "      <td>0707.3555</td>\n",
       "      <td>A. Russell, Vladimir I. Fal'ko</td>\n",
       "      <td>power dependence of the photocurrent lineshape...</td>\n",
       "      <td>we propose a kinetic theory to describe the po...</td>\n",
       "    </tr>\n",
       "    <tr>\n",
       "      <th>...</th>\n",
       "      <td>...</td>\n",
       "      <td>...</td>\n",
       "      <td>...</td>\n",
       "      <td>...</td>\n",
       "    </tr>\n",
       "    <tr>\n",
       "      <th>499995</th>\n",
       "      <td>2101.12190</td>\n",
       "      <td>Xuanqiang Zhao, Benchi Zhao, Zihe Wang, Zhixin...</td>\n",
       "      <td>practical distributed quantum information proc...</td>\n",
       "      <td>distributed quantum information processing is ...</td>\n",
       "    </tr>\n",
       "    <tr>\n",
       "      <th>499996</th>\n",
       "      <td>1611.06158</td>\n",
       "      <td>Manuel G\\\"unther and Andras Rozsa and Terrance...</td>\n",
       "      <td>affact alignmentfree facial attribute classifi...</td>\n",
       "      <td>facial attributes are softbiometrics that allo...</td>\n",
       "    </tr>\n",
       "    <tr>\n",
       "      <th>499997</th>\n",
       "      <td>1907.06113</td>\n",
       "      <td>Yiannis Loizides</td>\n",
       "      <td>quasipolynomials and the singular theorem</td>\n",
       "      <td>in this short note we revisit the shiftdesingu...</td>\n",
       "    </tr>\n",
       "    <tr>\n",
       "      <th>499998</th>\n",
       "      <td>cond-mat/9902090</td>\n",
       "      <td>I. Knittel, F. Gagel, M. Schreiber</td>\n",
       "      <td>quantum transport and momentum conserving deph...</td>\n",
       "      <td>we study numerically the influence of momentum...</td>\n",
       "    </tr>\n",
       "    <tr>\n",
       "      <th>499999</th>\n",
       "      <td>1809.01264</td>\n",
       "      <td>V. Rosero, K. E. I. Tanaka, J. C. Tan, J. Marv...</td>\n",
       "      <td>the soma radio survey i comprehensive seds of ...</td>\n",
       "      <td>we study centimeter continuum emission of eigh...</td>\n",
       "    </tr>\n",
       "  </tbody>\n",
       "</table>\n",
       "<p>500000 rows × 4 columns</p>\n",
       "</div>"
      ]
     },
     "execution_count": 3,
     "metadata": {},
     "output_type": "execute_result"
    }
   ],
   "execution_count": 3
  },
  {
   "metadata": {
    "ExecuteTime": {
     "end_time": "2025-02-24T13:58:17.851692Z",
     "start_time": "2025-02-24T13:58:14.192238Z"
    }
   },
   "cell_type": "code",
   "source": [
    "model = SentenceTransformer('all-MiniLM-L6-v2', cache_folder=\"./model_cache\")\n",
    "sample_text = df.iloc[0]['title_clean'] + \". \" + df.iloc[0]['abstract_clean']\n",
    "sample_embedding = model.encode(sample_text)\n",
    "dim_embedding = len(sample_embedding)\n"
   ],
   "id": "7b6b57a8847df8d4",
   "outputs": [
    {
     "name": "stderr",
     "output_type": "stream",
     "text": [
      "/home/dzakirm/anaconda3/envs/satdat2024/lib/python3.10/site-packages/huggingface_hub/file_download.py:1132: FutureWarning: `resume_download` is deprecated and will be removed in version 1.0.0. Downloads always resume when possible. If you want to force a new download, use `force_download=True`.\n",
      "  warnings.warn(\n"
     ]
    }
   ],
   "execution_count": 4
  },
  {
   "metadata": {
    "ExecuteTime": {
     "end_time": "2025-02-24T13:58:18.407968Z",
     "start_time": "2025-02-24T13:58:17.889077Z"
    }
   },
   "cell_type": "code",
   "source": [
    "# client.create_collection(\n",
    "#     collection_name=collection_count,\n",
    "#     vectors_config=VectorParams(size=dim_count, distance=Distance.COSINE)\n",
    "# )\n",
    "# client.create_collection(\n",
    "#     collection_name=collection_tfidf,\n",
    "#     vectors_config=VectorParams(size=dim_tfidf, distance=Distance.COSINE)\n",
    "# )\n",
    "print(dim_embedding)\n",
    "client.create_collection(\n",
    "    collection_name=collection_embedding,\n",
    "    vectors_config=VectorParams(size=dim_embedding, distance=Distance.COSINE)\n",
    ")\n"
   ],
   "id": "ae5975f29ef28b04",
   "outputs": [
    {
     "name": "stdout",
     "output_type": "stream",
     "text": [
      "384\n"
     ]
    },
    {
     "data": {
      "text/plain": [
       "True"
      ]
     },
     "execution_count": 5,
     "metadata": {},
     "output_type": "execute_result"
    }
   ],
   "execution_count": 5
  },
  {
   "metadata": {
    "ExecuteTime": {
     "end_time": "2025-02-24T14:55:53.199211Z",
     "start_time": "2025-02-24T13:58:18.465700Z"
    }
   },
   "cell_type": "code",
   "source": [
    "# points_count = []\n",
    "# points_tfidf = []\n",
    "points_embedding = []\n",
    "\n",
    "for idx, row in tqdm(df.iterrows(), total=len(df)):\n",
    "    doc_id = row['id']\n",
    "    authors = row['authors']\n",
    "    title = row['title_clean']\n",
    "    abstract = row['abstract_clean']\n",
    "\n",
    "    text = title + \". \" + abstract\n",
    "    embedding_vector = model.encode(text)\n",
    "\n",
    "    # # Titik untuk CountVectorizer\n",
    "    # point_count = {\n",
    "    #     \"id\": int(idx),\n",
    "    #     \"vector\": row['count_vector'],  # Pastikan berupa list numerik\n",
    "    #     \"payload\": {\n",
    "    #         \"title\": title,\n",
    "    #         \"abstract\": abstract,\n",
    "    #     }\n",
    "    # }\n",
    "    # # Titik untuk TF-IDF\n",
    "    # point_tfidf = {\n",
    "    #     \"id\": int(idx),\n",
    "    #     \"vector\": row['tfidf'],  # Pastikan berupa list numerik\n",
    "    #     \"payload\": {\n",
    "    #         \"title\": title,\n",
    "    #         \"abstract\": abstract,\n",
    "    #     }\n",
    "    # }\n",
    "\n",
    "    # Titik untuk embedding all-MiniLM\n",
    "    point_embedding = {\n",
    "        \"id\": int(idx),\n",
    "        \"vector\": embedding_vector.tolist(),\n",
    "        \"payload\": {\n",
    "            \"id\": str(doc_id),\n",
    "            \"authors\": authors,\n",
    "            \"title\": title,\n",
    "            \"abstract\": abstract,\n",
    "        }\n",
    "    }\n",
    "\n",
    "    # points_count.append(point_count)\n",
    "    # points_tfidf.append(point_tfidf)\n",
    "    points_embedding.append(point_embedding)\n",
    "\n"
   ],
   "id": "5921c331a3f26989",
   "outputs": [
    {
     "name": "stderr",
     "output_type": "stream",
     "text": [
      "100%|██████████| 500000/500000 [57:34<00:00, 144.73it/s] \n"
     ]
    }
   ],
   "execution_count": 6
  },
  {
   "metadata": {
    "ExecuteTime": {
     "end_time": "2025-02-24T14:59:02.871999Z",
     "start_time": "2025-02-24T14:55:56.104446Z"
    }
   },
   "cell_type": "code",
   "source": [
    "batch_size = 100\n",
    "\n",
    "def upsert_batches(collection, points):\n",
    "    for i in tqdm(range(0, len(points), batch_size)):\n",
    "        batch = points[i:i+batch_size]\n",
    "        client.upsert(collection_name=collection, points=batch)\n",
    "\n",
    "# upsert_batches(collection_count, points_count)\n",
    "# upsert_batches(collection_tfidf, points_tfidf)\n",
    "upsert_batches(collection_embedding, points_embedding)\n"
   ],
   "id": "b5eea1487c923391",
   "outputs": [
    {
     "name": "stderr",
     "output_type": "stream",
     "text": [
      "100%|██████████| 5000/5000 [03:06<00:00, 26.77it/s]\n"
     ]
    }
   ],
   "execution_count": 7
  }
 ],
 "metadata": {
  "kernelspec": {
   "display_name": "Python 3",
   "language": "python",
   "name": "python3"
  },
  "language_info": {
   "codemirror_mode": {
    "name": "ipython",
    "version": 2
   },
   "file_extension": ".py",
   "mimetype": "text/x-python",
   "name": "python",
   "nbconvert_exporter": "python",
   "pygments_lexer": "ipython2",
   "version": "2.7.6"
  }
 },
 "nbformat": 4,
 "nbformat_minor": 5
}
