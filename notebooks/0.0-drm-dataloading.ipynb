{
 "cells": [
  {
   "cell_type": "code",
   "id": "initial_id",
   "metadata": {
    "collapsed": true,
    "ExecuteTime": {
     "end_time": "2025-02-17T14:13:50.208424Z",
     "start_time": "2025-02-17T14:13:27.643932Z"
    }
   },
   "source": [
    "import polars as pl\n",
    "\n",
    "df = pl.read_ndjson('hf://datasets/gfissore/arxiv-abstracts-2021/arxiv-abstracts.jsonl.gz')"
   ],
   "outputs": [],
   "execution_count": 2
  },
  {
   "metadata": {
    "ExecuteTime": {
     "end_time": "2025-02-17T14:17:31.960122Z",
     "start_time": "2025-02-17T14:17:10.563619Z"
    }
   },
   "cell_type": "code",
   "source": "df.write_parquet(\"../data/raw/arxiv-abstracts.parquet\")",
   "id": "8d22bfb763d6dc8b",
   "outputs": [],
   "execution_count": 7
  },
  {
   "metadata": {
    "ExecuteTime": {
     "end_time": "2025-02-17T14:15:22.502489Z",
     "start_time": "2025-02-17T14:15:22.493539Z"
    }
   },
   "cell_type": "code",
   "source": "df",
   "id": "5d963de70ca2e8f7",
   "outputs": [
    {
     "data": {
      "text/plain": [
       "shape: (1_999_486, 11)\n",
       "┌───────────┬───────────┬───────────┬───────────┬───┬───────────┬───────────┬───────────┬──────────┐\n",
       "│ id        ┆ submitter ┆ authors   ┆ title     ┆ … ┆ abstract  ┆ report-no ┆ categorie ┆ versions │\n",
       "│ ---       ┆ ---       ┆ ---       ┆ ---       ┆   ┆ ---       ┆ ---       ┆ s         ┆ ---      │\n",
       "│ str       ┆ str       ┆ str       ┆ str       ┆   ┆ str       ┆ str       ┆ ---       ┆ list[str │\n",
       "│           ┆           ┆           ┆           ┆   ┆           ┆           ┆ list[str] ┆ ]        │\n",
       "╞═══════════╪═══════════╪═══════════╪═══════════╪═══╪═══════════╪═══════════╪═══════════╪══════════╡\n",
       "│ 0704.0001 ┆ Pavel     ┆ C.        ┆ Calculati ┆ … ┆ A fully   ┆ ANL-HEP-P ┆ [\"hep-ph\" ┆ [\"v1\",   │\n",
       "│           ┆ Nadolsky  ┆ Bal\\'azs, ┆ on of     ┆   ┆ different ┆ R-07-12   ┆ ]         ┆ \"v2\"]    │\n",
       "│           ┆           ┆ E. L.     ┆ prompt    ┆   ┆ ial       ┆           ┆           ┆          │\n",
       "│           ┆           ┆ Berger,   ┆ diphoton… ┆   ┆ calcula…  ┆           ┆           ┆          │\n",
       "│           ┆           ┆ P. …      ┆           ┆   ┆           ┆           ┆           ┆          │\n",
       "│ 0704.0002 ┆ Louis     ┆ Ileana    ┆ Sparsity- ┆ … ┆ We        ┆ null      ┆ [\"math.CO ┆ [\"v1\",   │\n",
       "│           ┆ Theran    ┆ Streinu   ┆ certifyin ┆   ┆ describe  ┆           ┆ cs.CG\"]   ┆ \"v2\"]    │\n",
       "│           ┆           ┆ and Louis ┆ g Graph   ┆   ┆ a new alg ┆           ┆           ┆          │\n",
       "│           ┆           ┆ Thera…    ┆ Deco…     ┆   ┆ orithm,…  ┆           ┆           ┆          │\n",
       "│ 0704.0003 ┆ Hongjun   ┆ Hongjun   ┆ The       ┆ … ┆ The       ┆ null      ┆ [\"physics ┆ [\"v1\",   │\n",
       "│           ┆ Pan       ┆ Pan       ┆ evolution ┆   ┆ evolution ┆           ┆ .gen-ph\"] ┆ \"v2\",    │\n",
       "│           ┆           ┆           ┆ of the    ┆   ┆ of Earth- ┆           ┆           ┆ \"v3\"]    │\n",
       "│           ┆           ┆           ┆ Earth-Moo ┆   ┆ Moon …    ┆           ┆           ┆          │\n",
       "│           ┆           ┆           ┆ …         ┆   ┆           ┆           ┆           ┆          │\n",
       "│ 0704.0004 ┆ David     ┆ David     ┆ A determi ┆ … ┆ We show   ┆ null      ┆ [\"math.CO ┆ [\"v1\"]   │\n",
       "│           ┆ Callan    ┆ Callan    ┆ nant of   ┆   ┆ that a    ┆           ┆ \"]        ┆          │\n",
       "│           ┆           ┆           ┆ Stirling  ┆   ┆ determina ┆           ┆           ┆          │\n",
       "│           ┆           ┆           ┆ cycl…     ┆   ┆ nt o…     ┆           ┆           ┆          │\n",
       "│ 0704.0005 ┆ Alberto   ┆ Wael Abu- ┆ From      ┆ … ┆ In this   ┆ null      ┆ [\"math.CA ┆ [\"v1\"]   │\n",
       "│           ┆ Torchinsk ┆ Shammala  ┆ dyadic    ┆   ┆ paper we  ┆           ┆ math.FA\"] ┆          │\n",
       "│           ┆ y         ┆ and       ┆ $\\Lambda_ ┆   ┆ show how  ┆           ┆           ┆          │\n",
       "│           ┆           ┆ Alberto … ┆ {\\alpha}$ ┆   ┆ to…       ┆           ┆           ┆          │\n",
       "│           ┆           ┆           ┆ …         ┆   ┆           ┆           ┆           ┆          │\n",
       "│ …         ┆ …         ┆ …         ┆ …         ┆ … ┆ …         ┆ …         ┆ …         ┆ …        │\n",
       "│ supr-con/ ┆ Ruslan    ┆ R.        ┆ On the    ┆ … ┆ We report ┆ null      ┆ [\"supr-co ┆ [\"v1\"]   │\n",
       "│ 9608008   ┆ Prozorov  ┆ Prozorov, ┆ origin of ┆   ┆ on measur ┆           ┆ n cond-ma ┆          │\n",
       "│           ┆           ┆ M. Konczy ┆ the irrev ┆   ┆ ements    ┆           ┆ t.supr-co ┆          │\n",
       "│           ┆           ┆ kowski, … ┆ ersi…     ┆   ┆ of…       ┆           ┆ n\"]       ┆          │\n",
       "│ supr-con/ ┆ Durga P.  ┆ Durga P.  ┆ Nonlinear ┆ … ┆ The non-l ┆ null      ┆ [\"supr-co ┆ [\"v1\"]   │\n",
       "│ 9609001   ┆ Choudhury ┆ Choudhury ┆ Response  ┆   ┆ inear     ┆           ┆ n cond-ma ┆          │\n",
       "│           ┆           ┆ , Balam   ┆ of HTSC   ┆   ┆ microwave ┆           ┆ t.supr-co ┆          │\n",
       "│           ┆           ┆ A. W…     ┆ Thi…      ┆   ┆ sur…      ┆           ┆ n\"]       ┆          │\n",
       "│ supr-con/ ┆ Durga P.  ┆ Balam A.  ┆ Critical  ┆ … ┆ The       ┆ null      ┆ [\"supr-co ┆ [\"v1\"]   │\n",
       "│ 9609002   ┆ Choudhury ┆ Willemsen ┆ State     ┆   ┆ vortex    ┆           ┆ n cond-ma ┆          │\n",
       "│           ┆           ┆ , J. S.   ┆ Flux Pene ┆   ┆ contribut ┆           ┆ t.supr-co ┆          │\n",
       "│           ┆           ┆ Dero…     ┆ tratio…   ┆   ┆ ion to t… ┆           ┆ n\"]       ┆          │\n",
       "│ supr-con/ ┆ Hasegawa  ┆ Yasumasa  ┆ Density   ┆ … ┆ We show   ┆ null      ┆ [\"supr-co ┆ [\"v1\"]   │\n",
       "│ 9609003   ┆ Yasumasa  ┆ Hasegawa  ┆ of States ┆   ┆ that the  ┆           ┆ n cond-ma ┆          │\n",
       "│           ┆           ┆ (Himeji   ┆ and NMR   ┆   ┆ density   ┆           ┆ t.supr-co ┆          │\n",
       "│           ┆           ┆ Inst…     ┆ Rela…     ┆   ┆ of …      ┆           ┆ n\"]       ┆          │\n",
       "│ supr-con/ ┆ Masanori  ┆ Naoki     ┆ Ginzburg  ┆ … ┆ The       ┆ null      ┆ [\"supr-co ┆ [\"v1\"]   │\n",
       "│ 9609004   ┆ Ichioka   ┆ Enomoto,  ┆ Landau    ┆   ┆ Ginzburg  ┆           ┆ n cond-ma ┆          │\n",
       "│           ┆           ┆ Masanori  ┆ theory    ┆   ┆ Landau    ┆           ┆ t.supr-co ┆          │\n",
       "│           ┆           ┆ Ichiok…   ┆ for d-w…  ┆   ┆ theory f… ┆           ┆ n\"]       ┆          │\n",
       "└───────────┴───────────┴───────────┴───────────┴───┴───────────┴───────────┴───────────┴──────────┘"
      ],
      "text/html": [
       "<div><style>\n",
       ".dataframe > thead > tr,\n",
       ".dataframe > tbody > tr {\n",
       "  text-align: right;\n",
       "  white-space: pre-wrap;\n",
       "}\n",
       "</style>\n",
       "<small>shape: (1_999_486, 11)</small><table border=\"1\" class=\"dataframe\"><thead><tr><th>id</th><th>submitter</th><th>authors</th><th>title</th><th>comments</th><th>journal-ref</th><th>doi</th><th>abstract</th><th>report-no</th><th>categories</th><th>versions</th></tr><tr><td>str</td><td>str</td><td>str</td><td>str</td><td>str</td><td>str</td><td>str</td><td>str</td><td>str</td><td>list[str]</td><td>list[str]</td></tr></thead><tbody><tr><td>&quot;0704.0001&quot;</td><td>&quot;Pavel Nadolsky&quot;</td><td>&quot;C. Bal\\&#x27;azs, E. L. Berger, P. …</td><td>&quot;Calculation of prompt diphoton…</td><td>&quot;37 pages, 15 figures; publishe…</td><td>&quot;Phys.Rev.D76:013009,2007&quot;</td><td>&quot;10.1103/PhysRevD.76.013009&quot;</td><td>&quot;&nbsp;&nbsp;A fully differential calcula…</td><td>&quot;ANL-HEP-PR-07-12&quot;</td><td>[&quot;hep-ph&quot;]</td><td>[&quot;v1&quot;, &quot;v2&quot;]</td></tr><tr><td>&quot;0704.0002&quot;</td><td>&quot;Louis Theran&quot;</td><td>&quot;Ileana Streinu and Louis Thera…</td><td>&quot;Sparsity-certifying Graph Deco…</td><td>&quot;To appear in Graphs and Combin…</td><td>null</td><td>null</td><td>&quot;&nbsp;&nbsp;We describe a new algorithm,…</td><td>null</td><td>[&quot;math.CO cs.CG&quot;]</td><td>[&quot;v1&quot;, &quot;v2&quot;]</td></tr><tr><td>&quot;0704.0003&quot;</td><td>&quot;Hongjun Pan&quot;</td><td>&quot;Hongjun Pan&quot;</td><td>&quot;The evolution of the Earth-Moo…</td><td>&quot;23 pages, 3 figures&quot;</td><td>null</td><td>null</td><td>&quot;&nbsp;&nbsp;The evolution of Earth-Moon …</td><td>null</td><td>[&quot;physics.gen-ph&quot;]</td><td>[&quot;v1&quot;, &quot;v2&quot;, &quot;v3&quot;]</td></tr><tr><td>&quot;0704.0004&quot;</td><td>&quot;David Callan&quot;</td><td>&quot;David Callan&quot;</td><td>&quot;A determinant of Stirling cycl…</td><td>&quot;11 pages&quot;</td><td>null</td><td>null</td><td>&quot;&nbsp;&nbsp;We show that a determinant o…</td><td>null</td><td>[&quot;math.CO&quot;]</td><td>[&quot;v1&quot;]</td></tr><tr><td>&quot;0704.0005&quot;</td><td>&quot;Alberto Torchinsky&quot;</td><td>&quot;Wael Abu-Shammala and Alberto …</td><td>&quot;From dyadic $\\Lambda_{\\alpha}$…</td><td>null</td><td>&quot;Illinois J. Math. 52 (2008) no…</td><td>null</td><td>&quot;&nbsp;&nbsp;In this paper we show how to…</td><td>null</td><td>[&quot;math.CA math.FA&quot;]</td><td>[&quot;v1&quot;]</td></tr><tr><td>&hellip;</td><td>&hellip;</td><td>&hellip;</td><td>&hellip;</td><td>&hellip;</td><td>&hellip;</td><td>&hellip;</td><td>&hellip;</td><td>&hellip;</td><td>&hellip;</td><td>&hellip;</td></tr><tr><td>&quot;supr-con/9608008&quot;</td><td>&quot;Ruslan Prozorov&quot;</td><td>&quot;R. Prozorov, M. Konczykowski, …</td><td>&quot;On the origin of the irreversi…</td><td>&quot;19 pages, LaTex, 6 PostScript …</td><td>null</td><td>&quot;10.1103/PhysRevB.54.15530&quot;</td><td>&quot;&nbsp;&nbsp;We report on measurements of…</td><td>null</td><td>[&quot;supr-con cond-mat.supr-con&quot;]</td><td>[&quot;v1&quot;]</td></tr><tr><td>&quot;supr-con/9609001&quot;</td><td>&quot;Durga P. Choudhury&quot;</td><td>&quot;Durga P. Choudhury, Balam A. W…</td><td>&quot;Nonlinear Response of HTSC Thi…</td><td>&quot;4 pages, LaTeX type, Uses IEEE…</td><td>null</td><td>&quot;10.1109/77.620744&quot;</td><td>&quot;&nbsp;&nbsp;The non-linear microwave sur…</td><td>null</td><td>[&quot;supr-con cond-mat.supr-con&quot;]</td><td>[&quot;v1&quot;]</td></tr><tr><td>&quot;supr-con/9609002&quot;</td><td>&quot;Durga P. Choudhury&quot;</td><td>&quot;Balam A. Willemsen, J. S. Dero…</td><td>&quot;Critical State Flux Penetratio…</td><td>&quot;20 pages, LaTeX type, Uses REV…</td><td>null</td><td>&quot;10.1103/PhysRevB.56.11989&quot;</td><td>&quot;&nbsp;&nbsp;The vortex contribution to t…</td><td>null</td><td>[&quot;supr-con cond-mat.supr-con&quot;]</td><td>[&quot;v1&quot;]</td></tr><tr><td>&quot;supr-con/9609003&quot;</td><td>&quot;Hasegawa Yasumasa&quot;</td><td>&quot;Yasumasa Hasegawa (Himeji Inst…</td><td>&quot;Density of States and NMR Rela…</td><td>&quot;7 pages, 4 PostScript Figures,…</td><td>null</td><td>&quot;10.1143/JPSJ.65.3131&quot;</td><td>&quot;&nbsp;&nbsp;We show that the density of …</td><td>null</td><td>[&quot;supr-con cond-mat.supr-con&quot;]</td><td>[&quot;v1&quot;]</td></tr><tr><td>&quot;supr-con/9609004&quot;</td><td>&quot;Masanori Ichioka&quot;</td><td>&quot;Naoki Enomoto, Masanori Ichiok…</td><td>&quot;Ginzburg Landau theory for d-w…</td><td>&quot;12 pages including 8 eps figs,…</td><td>&quot;J. Phys. Soc. Jpn. 66, 204 (19…</td><td>&quot;10.1143/JPSJ.66.204&quot;</td><td>&quot;&nbsp;&nbsp;The Ginzburg Landau theory f…</td><td>null</td><td>[&quot;supr-con cond-mat.supr-con&quot;]</td><td>[&quot;v1&quot;]</td></tr></tbody></table></div>"
      ]
     },
     "execution_count": 5,
     "metadata": {},
     "output_type": "execute_result"
    }
   ],
   "execution_count": 5
  }
 ],
 "metadata": {
  "kernelspec": {
   "display_name": "Python 3",
   "language": "python",
   "name": "python3"
  },
  "language_info": {
   "codemirror_mode": {
    "name": "ipython",
    "version": 2
   },
   "file_extension": ".py",
   "mimetype": "text/x-python",
   "name": "python",
   "nbconvert_exporter": "python",
   "pygments_lexer": "ipython2",
   "version": "2.7.6"
  }
 },
 "nbformat": 4,
 "nbformat_minor": 5
}
