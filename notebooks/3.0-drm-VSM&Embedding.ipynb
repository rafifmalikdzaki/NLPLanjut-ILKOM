{
 "cells": [
  {
   "cell_type": "code",
   "id": "initial_id",
   "metadata": {
    "collapsed": true,
    "ExecuteTime": {
     "end_time": "2025-02-19T13:55:10.265948Z",
     "start_time": "2025-02-19T13:55:09.749446Z"
    }
   },
   "source": [
    "import pandas as pd\n",
    "from sklearn.feature_extraction.text import CountVectorizer, TfidfVectorizer\n",
    "from scipy.sparse import save_npz"
   ],
   "outputs": [],
   "execution_count": 1
  },
  {
   "metadata": {
    "ExecuteTime": {
     "end_time": "2025-02-19T13:55:10.273322Z",
     "start_time": "2025-02-19T13:55:10.270486Z"
    }
   },
   "cell_type": "code",
   "source": [
    "def create_count_vectorizer(df, text_col=\"abstract_lemmatized_text\", max_features=250_000, min_df=8):\n",
    "    count_vect = CountVectorizer()\n",
    "    count_matrix = count_vect.fit_transform(df[text_col])\n",
    "    return count_matrix, count_vect\n",
    "\n",
    "def create_tfidf_vectorizer(df, text_col=\"abstract_lemmatized_text\", max_features=250_000, min_df=8):\n",
    "    tfidf_vect = TfidfVectorizer()\n",
    "    tfidf_matrix = tfidf_vect.fit_transform(df[text_col])\n",
    "    return tfidf_matrix, tfidf_vect\n"
   ],
   "id": "a357a243b2159e66",
   "outputs": [],
   "execution_count": 2
  },
  {
   "metadata": {
    "ExecuteTime": {
     "end_time": "2025-02-19T13:55:13.980735Z",
     "start_time": "2025-02-19T13:55:10.356997Z"
    }
   },
   "cell_type": "code",
   "source": [
    "df = pd.read_parquet(\"../data/processed/arxiv-abstracts-cleaned_v2.parquet\", columns=[\"title\", \"abstract_lemmatized\"])\n",
    "\n",
    "df[\"abstract_lemmatized_text\"] = df[\"abstract_lemmatized\"].apply(lambda x: \" \".join(x))\n",
    "\n",
    "df"
   ],
   "id": "acd594aa7b0d19a6",
   "outputs": [
    {
     "data": {
      "text/plain": [
       "                                                    title  \\\n",
       "0       The superradiant instability regime of the spi...   \n",
       "1       Strange form factors of the proton: a new anal...   \n",
       "2       Predictions of the High-Energy Emission from B...   \n",
       "3       Dependence of quantum-Hall conductance on the ...   \n",
       "4       Power Dependence of the Photocurrent Lineshape...   \n",
       "...                                                   ...   \n",
       "499995  Practical distributed quantum information proc...   \n",
       "499996  AFFACT - Alignment-Free Facial Attribute Class...   \n",
       "499997  Quasi-polynomials and the singular $[Q,R]=0$ t...   \n",
       "499998  Quantum transport and momentum conserving deph...   \n",
       "499999  The SOMA Radio Survey. I. Comprehensive SEDs O...   \n",
       "\n",
       "                                      abstract_lemmatized  \\\n",
       "0       [spin, kerr, black, hole, know, superradiantly...   \n",
       "1       [consider, ratio, elastic, neutrinoantineutrin...   \n",
       "2       [spectral, fit, radio, hard, xray, emission, b...   \n",
       "3       [use, fourterminal, configuration, investigate...   \n",
       "4       [propose, kinetic, theory, describe, power, de...   \n",
       "...                                                   ...   \n",
       "499995  [distribute, quantum, information, process, es...   \n",
       "499996  [facial, attribute, softbiometric, allow, limi...   \n",
       "499997  [short, note, revisit, shiftdesingularization,...   \n",
       "499998  [study, numerically, influence, momentumconser...   \n",
       "499999  [study, centimeter, continuum, emission, eight...   \n",
       "\n",
       "                                 abstract_lemmatized_text  \n",
       "0       spin kerr black hole know superradiantly unsta...  \n",
       "1       consider ratio elastic neutrinoantineutrinopro...  \n",
       "2       spectral fit radio hard xray emission bl lac o...  \n",
       "3       use fourterminal configuration investigate dep...  \n",
       "4       propose kinetic theory describe power dependen...  \n",
       "...                                                   ...  \n",
       "499995  distribute quantum information process essenti...  \n",
       "499996  facial attribute softbiometric allow limit sea...  \n",
       "499997  short note revisit shiftdesingularization vers...  \n",
       "499998  study numerically influence momentumconserve d...  \n",
       "499999  study centimeter continuum emission eight high...  \n",
       "\n",
       "[500000 rows x 3 columns]"
      ],
      "text/html": [
       "<div>\n",
       "<style scoped>\n",
       "    .dataframe tbody tr th:only-of-type {\n",
       "        vertical-align: middle;\n",
       "    }\n",
       "\n",
       "    .dataframe tbody tr th {\n",
       "        vertical-align: top;\n",
       "    }\n",
       "\n",
       "    .dataframe thead th {\n",
       "        text-align: right;\n",
       "    }\n",
       "</style>\n",
       "<table border=\"1\" class=\"dataframe\">\n",
       "  <thead>\n",
       "    <tr style=\"text-align: right;\">\n",
       "      <th></th>\n",
       "      <th>title</th>\n",
       "      <th>abstract_lemmatized</th>\n",
       "      <th>abstract_lemmatized_text</th>\n",
       "    </tr>\n",
       "  </thead>\n",
       "  <tbody>\n",
       "    <tr>\n",
       "      <th>0</th>\n",
       "      <td>The superradiant instability regime of the spi...</td>\n",
       "      <td>[spin, kerr, black, hole, know, superradiantly...</td>\n",
       "      <td>spin kerr black hole know superradiantly unsta...</td>\n",
       "    </tr>\n",
       "    <tr>\n",
       "      <th>1</th>\n",
       "      <td>Strange form factors of the proton: a new anal...</td>\n",
       "      <td>[consider, ratio, elastic, neutrinoantineutrin...</td>\n",
       "      <td>consider ratio elastic neutrinoantineutrinopro...</td>\n",
       "    </tr>\n",
       "    <tr>\n",
       "      <th>2</th>\n",
       "      <td>Predictions of the High-Energy Emission from B...</td>\n",
       "      <td>[spectral, fit, radio, hard, xray, emission, b...</td>\n",
       "      <td>spectral fit radio hard xray emission bl lac o...</td>\n",
       "    </tr>\n",
       "    <tr>\n",
       "      <th>3</th>\n",
       "      <td>Dependence of quantum-Hall conductance on the ...</td>\n",
       "      <td>[use, fourterminal, configuration, investigate...</td>\n",
       "      <td>use fourterminal configuration investigate dep...</td>\n",
       "    </tr>\n",
       "    <tr>\n",
       "      <th>4</th>\n",
       "      <td>Power Dependence of the Photocurrent Lineshape...</td>\n",
       "      <td>[propose, kinetic, theory, describe, power, de...</td>\n",
       "      <td>propose kinetic theory describe power dependen...</td>\n",
       "    </tr>\n",
       "    <tr>\n",
       "      <th>...</th>\n",
       "      <td>...</td>\n",
       "      <td>...</td>\n",
       "      <td>...</td>\n",
       "    </tr>\n",
       "    <tr>\n",
       "      <th>499995</th>\n",
       "      <td>Practical distributed quantum information proc...</td>\n",
       "      <td>[distribute, quantum, information, process, es...</td>\n",
       "      <td>distribute quantum information process essenti...</td>\n",
       "    </tr>\n",
       "    <tr>\n",
       "      <th>499996</th>\n",
       "      <td>AFFACT - Alignment-Free Facial Attribute Class...</td>\n",
       "      <td>[facial, attribute, softbiometric, allow, limi...</td>\n",
       "      <td>facial attribute softbiometric allow limit sea...</td>\n",
       "    </tr>\n",
       "    <tr>\n",
       "      <th>499997</th>\n",
       "      <td>Quasi-polynomials and the singular $[Q,R]=0$ t...</td>\n",
       "      <td>[short, note, revisit, shiftdesingularization,...</td>\n",
       "      <td>short note revisit shiftdesingularization vers...</td>\n",
       "    </tr>\n",
       "    <tr>\n",
       "      <th>499998</th>\n",
       "      <td>Quantum transport and momentum conserving deph...</td>\n",
       "      <td>[study, numerically, influence, momentumconser...</td>\n",
       "      <td>study numerically influence momentumconserve d...</td>\n",
       "    </tr>\n",
       "    <tr>\n",
       "      <th>499999</th>\n",
       "      <td>The SOMA Radio Survey. I. Comprehensive SEDs O...</td>\n",
       "      <td>[study, centimeter, continuum, emission, eight...</td>\n",
       "      <td>study centimeter continuum emission eight high...</td>\n",
       "    </tr>\n",
       "  </tbody>\n",
       "</table>\n",
       "<p>500000 rows × 3 columns</p>\n",
       "</div>"
      ]
     },
     "execution_count": 3,
     "metadata": {},
     "output_type": "execute_result"
    }
   ],
   "execution_count": 3
  },
  {
   "metadata": {
    "ExecuteTime": {
     "end_time": "2025-02-19T13:55:38.747529Z",
     "start_time": "2025-02-19T13:55:14.048935Z"
    }
   },
   "cell_type": "code",
   "source": [
    "\n",
    "# Create CountVectorizer representation.\n",
    "count_matrix, count_vect = create_count_vectorizer(df, \"abstract_lemmatized_text\")\n",
    "\n",
    "# Save the sparse count matrix.\n",
    "save_npz(\"../data/processed/count_vectorizer.npz\", count_matrix)\n",
    "print(\"CountVectorizer output saved as 'count_vectorizer.npz'.\")"
   ],
   "id": "7222f910e9cc8759",
   "outputs": [
    {
     "name": "stdout",
     "output_type": "stream",
     "text": [
      "CountVectorizer output saved as 'count_vectorizer.npz'.\n"
     ]
    }
   ],
   "execution_count": 4
  },
  {
   "metadata": {
    "ExecuteTime": {
     "end_time": "2025-02-19T13:56:09.170811Z",
     "start_time": "2025-02-19T13:55:38.792242Z"
    }
   },
   "cell_type": "code",
   "source": [
    "# Create TFIDF representation.\n",
    "tfidf_matrix, tfidf_vect = create_tfidf_vectorizer(df, \"abstract_lemmatized_text\")\n",
    "\n",
    " # Save the sparse TFIDF matrix.\n",
    "save_npz(\"../data/processed/tfidf_vectorizer.npz\", tfidf_matrix)\n",
    "print(\"TFIDF output saved as 'tfidf_vectorizer.npz'.\")\n"
   ],
   "id": "a46a240a68262e20",
   "outputs": [
    {
     "name": "stdout",
     "output_type": "stream",
     "text": [
      "TFIDF output saved as 'tfidf_vectorizer.npz'.\n"
     ]
    }
   ],
   "execution_count": 5
  }
 ],
 "metadata": {
  "kernelspec": {
   "display_name": "Python 3",
   "language": "python",
   "name": "python3"
  },
  "language_info": {
   "codemirror_mode": {
    "name": "ipython",
    "version": 2
   },
   "file_extension": ".py",
   "mimetype": "text/x-python",
   "name": "python",
   "nbconvert_exporter": "python",
   "pygments_lexer": "ipython2",
   "version": "2.7.6"
  }
 },
 "nbformat": 4,
 "nbformat_minor": 5
}
