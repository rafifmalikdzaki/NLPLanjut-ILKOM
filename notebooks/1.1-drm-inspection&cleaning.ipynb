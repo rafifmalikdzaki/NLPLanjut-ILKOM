{
 "cells": [
  {
   "cell_type": "code",
   "id": "initial_id",
   "metadata": {
    "collapsed": true,
    "ExecuteTime": {
     "end_time": "2025-02-19T15:26:47.596525Z",
     "start_time": "2025-02-19T15:26:46.894969Z"
    }
   },
   "source": [
    "import polars as pl\n",
    "\n",
    "df = pl.read_parquet('../data/raw/arxiv-abstracts.parquet', columns=['id', 'authors', 'title', 'abstract'])\n",
    "df = df.sample(n=1_000_000, with_replacement=False, seed=124)\n",
    "# df = pl.read_parquet('../data/raw/arxiv-abstracts.parquet', columns=['id', 'authors', 'title', 'abstract'])\n"
   ],
   "outputs": [],
   "execution_count": 1
  },
  {
   "metadata": {
    "ExecuteTime": {
     "end_time": "2025-02-19T15:26:47.607394Z",
     "start_time": "2025-02-19T15:26:47.602987Z"
    }
   },
   "cell_type": "code",
   "source": "df",
   "id": "a9d11d3980b7c502",
   "outputs": [
    {
     "data": {
      "text/plain": [
       "shape: (1_000_000, 4)\n",
       "┌──────────────────┬──────────────────────────┬──────────────────────────┬─────────────────────────┐\n",
       "│ id               ┆ authors                  ┆ title                    ┆ abstract                │\n",
       "│ ---              ┆ ---                      ┆ ---                      ┆ ---                     │\n",
       "│ str              ┆ str                      ┆ str                      ┆ str                     │\n",
       "╞══════════════════╪══════════════════════════╪══════════════════════════╪═════════════════════════╡\n",
       "│ 1606.02306       ┆ Shahar Hod               ┆ The superradiant         ┆ Spinning Kerr black     │\n",
       "│                  ┆                          ┆ instability r…           ┆ holes ar…               │\n",
       "│ hep-ph/9812388   ┆ W.M. Alberico, M.B.      ┆ Strange form factors of  ┆ We consider ratios of   │\n",
       "│                  ┆ Barbaro, S…              ┆ the pr…                  ┆ elasti…                 │\n",
       "│ astro-ph/0208171 ┆ M. Boettcher (Rice Univ. ┆ Predictions of the       ┆ Spectral fitting of the │\n",
       "│                  ┆ / Ohi…                   ┆ High-Energy…             ┆ radi…                   │\n",
       "│ 0912.2791        ┆ Dong-Keun Ki, Seung-Geol ┆ Dependence of            ┆ By using four-terminal  │\n",
       "│                  ┆ Nam, …                   ┆ quantum-Hall con…        ┆ confi…                  │\n",
       "│ 0707.3555        ┆ A. Russell, Vladimir I.  ┆ Power Dependence of the  ┆ We propose a kinetic    │\n",
       "│                  ┆ Fal'ko                   ┆ Photoc…                  ┆ theory …                │\n",
       "│ …                ┆ …                        ┆ …                        ┆ …                       │\n",
       "│ cond-mat/0701113 ┆ Youjin Deng, Timothy M.  ┆ Critical speeding-up in  ┆ We study the dynamic    │\n",
       "│                  ┆ Garoni…                  ┆ a loca…                  ┆ critica…                │\n",
       "│ 2002.10861       ┆ Denis Sabani, Cihan      ┆ Ab initio methodology    ┆ The recent development  │\n",
       "│                  ┆ Bacaksiz a…              ┆ for magn…                ┆ in th…                  │\n",
       "│ 1310.0237        ┆ Hywel Owen, David        ┆ Technologies for         ┆ Recent developments for │\n",
       "│                  ┆ Holder, Jose…            ┆ Delivery of P…           ┆ the …                   │\n",
       "│ 2108.11695       ┆ Zhuojie Wu, Zijian Wang, ┆ PAENet: A Progressive    ┆ 3D to 2D retinal vessel │\n",
       "│                  ┆ Wenxu…                   ┆ Attentio…                ┆ segm…                   │\n",
       "│ hep-ph/0407286   ┆ Andrea Banfi, Gavin P.   ┆ Principles of general    ┆ Next-to-leading         │\n",
       "│                  ┆ Salam a…                 ┆ final-st…                ┆ logarithmic …           │\n",
       "└──────────────────┴──────────────────────────┴──────────────────────────┴─────────────────────────┘"
      ],
      "text/html": [
       "<div><style>\n",
       ".dataframe > thead > tr,\n",
       ".dataframe > tbody > tr {\n",
       "  text-align: right;\n",
       "  white-space: pre-wrap;\n",
       "}\n",
       "</style>\n",
       "<small>shape: (1_000_000, 4)</small><table border=\"1\" class=\"dataframe\"><thead><tr><th>id</th><th>authors</th><th>title</th><th>abstract</th></tr><tr><td>str</td><td>str</td><td>str</td><td>str</td></tr></thead><tbody><tr><td>&quot;1606.02306&quot;</td><td>&quot;Shahar Hod&quot;</td><td>&quot;The superradiant instability r…</td><td>&quot;&nbsp;&nbsp;Spinning Kerr black holes ar…</td></tr><tr><td>&quot;hep-ph/9812388&quot;</td><td>&quot;W.M. Alberico, M.B. Barbaro, S…</td><td>&quot;Strange form factors of the pr…</td><td>&quot;&nbsp;&nbsp;We consider ratios of elasti…</td></tr><tr><td>&quot;astro-ph/0208171&quot;</td><td>&quot;M. Boettcher (Rice Univ. / Ohi…</td><td>&quot;Predictions of the High-Energy…</td><td>&quot;&nbsp;&nbsp;Spectral fitting of the radi…</td></tr><tr><td>&quot;0912.2791&quot;</td><td>&quot;Dong-Keun Ki, Seung-Geol Nam, …</td><td>&quot;Dependence of quantum-Hall con…</td><td>&quot;&nbsp;&nbsp;By using four-terminal confi…</td></tr><tr><td>&quot;0707.3555&quot;</td><td>&quot;A. Russell, Vladimir I. Fal&#x27;ko&quot;</td><td>&quot;Power Dependence of the Photoc…</td><td>&quot;&nbsp;&nbsp;We propose a kinetic theory …</td></tr><tr><td>&hellip;</td><td>&hellip;</td><td>&hellip;</td><td>&hellip;</td></tr><tr><td>&quot;cond-mat/0701113&quot;</td><td>&quot;Youjin Deng, Timothy M. Garoni…</td><td>&quot;Critical speeding-up in a loca…</td><td>&quot;&nbsp;&nbsp;We study the dynamic critica…</td></tr><tr><td>&quot;2002.10861&quot;</td><td>&quot;Denis Sabani, Cihan Bacaksiz a…</td><td>&quot;Ab initio methodology for magn…</td><td>&quot;&nbsp;&nbsp;The recent development in th…</td></tr><tr><td>&quot;1310.0237&quot;</td><td>&quot;Hywel Owen, David Holder, Jose…</td><td>&quot;Technologies for Delivery of P…</td><td>&quot;&nbsp;&nbsp;Recent developments for the …</td></tr><tr><td>&quot;2108.11695&quot;</td><td>&quot;Zhuojie Wu, Zijian Wang, Wenxu…</td><td>&quot;PAENet: A Progressive Attentio…</td><td>&quot;&nbsp;&nbsp;3D to 2D retinal vessel segm…</td></tr><tr><td>&quot;hep-ph/0407286&quot;</td><td>&quot;Andrea Banfi, Gavin P. Salam a…</td><td>&quot;Principles of general final-st…</td><td>&quot;&nbsp;&nbsp;Next-to-leading logarithmic …</td></tr></tbody></table></div>"
      ]
     },
     "execution_count": 2,
     "metadata": {},
     "output_type": "execute_result"
    }
   ],
   "execution_count": 2
  },
  {
   "metadata": {
    "ExecuteTime": {
     "end_time": "2025-02-19T15:26:54.094723Z",
     "start_time": "2025-02-19T15:26:47.773756Z"
    }
   },
   "cell_type": "code",
   "source": [
    "import re\n",
    "import string\n",
    "import random\n",
    "import nltk\n",
    "import spacy\n",
    "from bs4 import BeautifulSoup\n",
    "from nltk.corpus import stopwords, wordnet\n",
    "from nltk.stem import PorterStemmer\n",
    "from nltk.tokenize import word_tokenize, sent_tokenize\n",
    "from gensim.models.phrases import Phrases, Phraser\n",
    "from sklearn.feature_extraction.text import TfidfVectorizer\n",
    "import gensim\n",
    "from gensim import corpora, models\n",
    "from sklearn.model_selection import train_test_split\n",
    "from sklearn.linear_model import LogisticRegression\n",
    "from sklearn.metrics import classification_report\n",
    "import joblib\n",
    "# Uncomment the following lines if you wish to use SHAP (requires a graphical environment)\n",
    "# import shap\n",
    "# shap.initjs()\n",
    "\n",
    "# Download necessary NLTK data files (run once)\n",
    "nltk.download('punkt')\n",
    "nltk.download('stopwords')\n",
    "nltk.download('wordnet')\n",
    "ps = PorterStemmer()\n",
    "\n",
    "# Load spaCy English model\n",
    "nlp = spacy.load(\"en_core_web_sm\")"
   ],
   "id": "549d7f1f8a393c3d",
   "outputs": [
    {
     "name": "stderr",
     "output_type": "stream",
     "text": [
      "[nltk_data] Downloading package punkt to /home/dzakirm/nltk_data...\n",
      "[nltk_data]   Package punkt is already up-to-date!\n",
      "[nltk_data] Downloading package stopwords to\n",
      "[nltk_data]     /home/dzakirm/nltk_data...\n",
      "[nltk_data]   Package stopwords is already up-to-date!\n",
      "[nltk_data] Downloading package wordnet to /home/dzakirm/nltk_data...\n",
      "[nltk_data]   Package wordnet is already up-to-date!\n",
      "/home/dzakirm/anaconda3/envs/satdat2024/lib/python3.10/site-packages/sentence_transformers/cross_encoder/CrossEncoder.py:11: TqdmExperimentalWarning: Using `tqdm.autonotebook.tqdm` in notebook mode. Use `tqdm.tqdm` instead to force console mode (e.g. in jupyter console)\n",
      "  from tqdm.autonotebook import tqdm, trange\n",
      "2025-02-19 22:26:52.324022: I tensorflow/core/util/port.cc:113] oneDNN custom operations are on. You may see slightly different numerical results due to floating-point round-off errors from different computation orders. To turn them off, set the environment variable `TF_ENABLE_ONEDNN_OPTS=0`.\n",
      "2025-02-19 22:26:52.469976: I tensorflow/core/platform/cpu_feature_guard.cc:210] This TensorFlow binary is optimized to use available CPU instructions in performance-critical operations.\n",
      "To enable the following instructions: AVX2 AVX_VNNI FMA, in other operations, rebuild TensorFlow with the appropriate compiler flags.\n",
      "2025-02-19 22:26:53.214013: W tensorflow/compiler/tf2tensorrt/utils/py_utils.cc:38] TF-TRT Warning: Could not find TensorRT\n"
     ]
    }
   ],
   "execution_count": 3
  },
  {
   "metadata": {},
   "cell_type": "markdown",
   "source": "## Basic Preprocessing",
   "id": "93710c8c9ebfd3ff"
  },
  {
   "metadata": {
    "ExecuteTime": {
     "end_time": "2025-02-19T15:26:54.423753Z",
     "start_time": "2025-02-19T15:26:54.119457Z"
    }
   },
   "cell_type": "code",
   "source": [
    "import re\n",
    "import polars as pl\n",
    "import nltk\n",
    "import spacy\n",
    "from nltk.corpus import stopwords, wordnet\n",
    "from nltk.tokenize import word_tokenize\n",
    "from nltk.stem import PorterStemmer\n",
    "from gensim.models.phrases import Phrases, Phraser\n",
    "\n",
    "nltk.download('punkt')\n",
    "nltk.download('stopwords')\n",
    "nltk.download('wordnet')\n",
    "\n",
    "nlp = spacy.load(\"en_core_web_sm\")\n",
    "ps = PorterStemmer()\n",
    "stop_words = set(stopwords.words('english'))\n",
    "import re\n",
    "import string\n",
    "\n",
    "def clean_arxiv_abstract(text: str) -> str:\n",
    "    if not isinstance(text, str):\n",
    "        return \"\"\n",
    "    # Convert to lowercase\n",
    "    text = text.lower()\n",
    "    # Remove display math (DOTALL to catch newlines)\n",
    "    text = re.sub(r'\\$\\$.*?\\$\\$', '', text, flags=re.DOTALL)\n",
    "    # Remove inline math expressions\n",
    "    text = re.sub(r'\\$.*?\\$', '', text)\n",
    "    # Remove LaTeX commands (e.g., \\emph{...}, \\textbf{...})\n",
    "    text = re.sub(r'\\\\[a-zA-Z]+\\*?(?:\\[[^\\]]*\\])?(?:\\{[^}]*\\})?', '', text)\n",
    "    # Remove citation markers like [1] or [1,2,3]\n",
    "    text = re.sub(r'\\[[^\\]]*\\]', '', text)\n",
    "    # Remove all punctuation\n",
    "    text = text.translate(str.maketrans('', '', string.punctuation))\n",
    "    # Collapse extra whitespace\n",
    "    text = re.sub(r'\\s+', ' ', text).strip()\n",
    "    return text\n",
    "\n",
    "def tokenize_text(text: str) -> list:\n",
    "    \"\"\"Tokenize a string into words.\"\"\"\n",
    "    if not isinstance(text, str):\n",
    "        return []\n",
    "    return word_tokenize(text)\n",
    "\n",
    "def remove_stopwords(tokens: list) -> list:\n",
    "    \"\"\"Remove stopwords from a list of tokens.\"\"\"\n",
    "    return [token for token in tokens if token not in stop_words]\n",
    "\n",
    "def lemmatize_tokens(tokens: list) -> list:\n",
    "    \"\"\"Lemmatize tokens using spaCy.\"\"\"\n",
    "    doc = nlp(\" \".join(tokens))\n",
    "    return [token.lemma_ for token in doc]\n",
    "\n",
    "def stem_tokens(tokens: list) -> list:\n",
    "    \"\"\"Stem tokens using NLTK's PorterStemmer.\"\"\"\n",
    "    return [ps.stem(token) for token in tokens]\n",
    "\n",
    "def named_entity_recognition(text: str) -> list:\n",
    "    \"\"\"Extract named entities from text using spaCy.\"\"\"\n",
    "    if not isinstance(text, str):\n",
    "        return []\n",
    "    doc = nlp(text)\n",
    "    return [(ent.text, ent.label_) for ent in doc.ents]\n",
    "\n",
    "def pos_tagging(text: str) -> list:\n",
    "    \"\"\"Extract POS tags from text using spaCy.\"\"\"\n",
    "    if not isinstance(text, str):\n",
    "        return []\n",
    "    doc = nlp(text)\n",
    "    return [(token.text, token.pos_) for token in doc]\n",
    "\n",
    "def build_phraser(token_lists: list) -> Phraser:\n",
    "    \"\"\"Build a bigram phraser using Gensim's Phrases.\"\"\"\n",
    "    phrases = Phrases(token_lists, min_count=1, threshold=2)\n",
    "    return Phraser(phrases)\n",
    "\n",
    "def apply_phrases(tokens: list, phraser: Phraser) -> list:\n",
    "    \"\"\"Apply a pre-built phraser to a list of tokens.\"\"\"\n",
    "    return phraser[tokens]"
   ],
   "id": "1d69d408c363abbb",
   "outputs": [
    {
     "name": "stderr",
     "output_type": "stream",
     "text": [
      "[nltk_data] Downloading package punkt to /home/dzakirm/nltk_data...\n",
      "[nltk_data]   Package punkt is already up-to-date!\n",
      "[nltk_data] Downloading package stopwords to\n",
      "[nltk_data]     /home/dzakirm/nltk_data...\n",
      "[nltk_data]   Package stopwords is already up-to-date!\n",
      "[nltk_data] Downloading package wordnet to /home/dzakirm/nltk_data...\n",
      "[nltk_data]   Package wordnet is already up-to-date!\n"
     ]
    }
   ],
   "execution_count": 4
  },
  {
   "metadata": {},
   "cell_type": "markdown",
   "source": "## Cleaning",
   "id": "9ad29d5aae0e5355"
  },
  {
   "metadata": {},
   "cell_type": "markdown",
   "source": "### Title",
   "id": "5b94c5a349c6ec50"
  },
  {
   "metadata": {
    "ExecuteTime": {
     "end_time": "2025-02-19T15:28:20.020361Z",
     "start_time": "2025-02-19T15:26:54.499560Z"
    }
   },
   "cell_type": "code",
   "source": [
    "df = df.with_columns([\n",
    "    pl.col(\"title\").map_elements(clean_arxiv_abstract).alias(\"title_clean\"),\n",
    "    pl.col(\"title\").map_elements(lambda x: tokenize_text(clean_arxiv_abstract(x))).alias(\"title_tokens\")\n",
    "])\n",
    "\n",
    "df.write_parquet(\"../data/interim/arxiv-abstracts-cleaned_v3.parquet\")\n"
   ],
   "id": "21d28053fed5fcbc",
   "outputs": [
    {
     "name": "stderr",
     "output_type": "stream",
     "text": [
      "sys:1: MapWithoutReturnDtypeWarning: Calling `map_elements` without specifying `return_dtype` can lead to unpredictable results. Specify `return_dtype` to silence this warning.\n",
      "sys:1: MapWithoutReturnDtypeWarning: Calling `map_elements` without specifying `return_dtype` can lead to unpredictable results. Specify `return_dtype` to silence this warning.\n"
     ]
    }
   ],
   "execution_count": 5
  },
  {
   "metadata": {
    "ExecuteTime": {
     "end_time": "2025-02-19T17:20:25.965186Z",
     "start_time": "2025-02-19T15:28:20.742084Z"
    }
   },
   "cell_type": "code",
   "source": [
    "df = df.with_columns([\n",
    "    pl.col(\"title_tokens\").map_elements(remove_stopwords).alias(\"title_tokens_no_stop\"),\n",
    "])\n",
    "\n",
    "df = df.with_columns([\n",
    "    pl.col(\"title_tokens\").map_elements(remove_stopwords).alias(\"title_tokens_no_stop\"),\n",
    "    pl.col(\"title_tokens_no_stop\").map_elements(lemmatize_tokens).alias(\"title_lemmatized\"),\n",
    "    pl.col(\"title_tokens_no_stop\").map_elements(stem_tokens).alias(\"title_stemmed\"),\n",
    "    pl.col(\"title_clean\").map_elements(named_entity_recognition).alias(\"title_entities\"),\n",
    "    pl.col(\"title_clean\").map_elements(pos_tagging).alias(\"title_pos_tags\")\n",
    "])\n",
    "\n",
    "df.write_parquet(\"../data/interim/arxiv-abstracts-cleaned_v3.parquet\")\n"
   ],
   "id": "7bcb0eb266fbe11c",
   "outputs": [
    {
     "name": "stderr",
     "output_type": "stream",
     "text": [
      "/tmp/ipykernel_62437/1824232930.py:1: MapWithoutReturnDtypeWarning: Calling `map_elements` without specifying `return_dtype` can lead to unpredictable results. Specify `return_dtype` to silence this warning.\n",
      "  df = df.with_columns([\n",
      "sys:1: MapWithoutReturnDtypeWarning: Calling `map_elements` without specifying `return_dtype` can lead to unpredictable results. Specify `return_dtype` to silence this warning.\n",
      "sys:1: MapWithoutReturnDtypeWarning: Calling `map_elements` without specifying `return_dtype` can lead to unpredictable results. Specify `return_dtype` to silence this warning.\n",
      "sys:1: MapWithoutReturnDtypeWarning: Calling `map_elements` without specifying `return_dtype` can lead to unpredictable results. Specify `return_dtype` to silence this warning.\n",
      "sys:1: MapWithoutReturnDtypeWarning: Calling `map_elements` without specifying `return_dtype` can lead to unpredictable results. Specify `return_dtype` to silence this warning.\n",
      "sys:1: MapWithoutReturnDtypeWarning: Calling `map_elements` without specifying `return_dtype` can lead to unpredictable results. Specify `return_dtype` to silence this warning.\n"
     ]
    }
   ],
   "execution_count": 6
  },
  {
   "metadata": {},
   "cell_type": "markdown",
   "source": "### Abstract",
   "id": "c191459211447c08"
  },
  {
   "metadata": {
    "ExecuteTime": {
     "end_time": "2025-02-19T17:25:41.419608Z",
     "start_time": "2025-02-19T17:20:26.020154Z"
    }
   },
   "cell_type": "code",
   "source": [
    "df = df.with_columns([\n",
    "    pl.col(\"abstract\").map_elements(clean_arxiv_abstract).alias(\"abstract_clean\"),\n",
    "    pl.col(\"abstract\").map_elements(lambda x: tokenize_text(clean_arxiv_abstract(x))).alias(\"abstract_tokens\")\n",
    "])\n",
    "\n",
    "df.write_parquet(\"../data/interim/arxiv-abstracts-cleaned_v3.parquet\")\n"
   ],
   "id": "5f062db2e5538955",
   "outputs": [
    {
     "name": "stderr",
     "output_type": "stream",
     "text": [
      "sys:1: MapWithoutReturnDtypeWarning: Calling `map_elements` without specifying `return_dtype` can lead to unpredictable results. Specify `return_dtype` to silence this warning.\n",
      "sys:1: MapWithoutReturnDtypeWarning: Calling `map_elements` without specifying `return_dtype` can lead to unpredictable results. Specify `return_dtype` to silence this warning.\n"
     ]
    }
   ],
   "execution_count": 7
  },
  {
   "metadata": {
    "ExecuteTime": {
     "end_time": "2025-02-19T23:01:58.704761Z",
     "start_time": "2025-02-19T17:25:41.473880Z"
    }
   },
   "cell_type": "code",
   "source": [
    "df = df.with_columns([\n",
    "    pl.col(\"abstract_tokens\").map_elements(remove_stopwords).alias(\"abstract_tokens_no_stop\"),\n",
    "])\n",
    "\n",
    "df = df.with_columns([\n",
    "    pl.col(\"abstract_tokens\").map_elements(remove_stopwords).alias(\"abstract_tokens_no_stop\"),\n",
    "    pl.col(\"abstract_tokens_no_stop\").map_elements(lemmatize_tokens).alias(\"abstract_lemmatized\"),\n",
    "    pl.col(\"abstract_tokens_no_stop\").map_elements(stem_tokens).alias(\"abstract_stemmed\"),\n",
    "    pl.col(\"abstract_clean\").map_elements(named_entity_recognition).alias(\"abstract_entities\"),\n",
    "    pl.col(\"abstract_clean\").map_elements(pos_tagging).alias(\"abstract_pos_tags\")\n",
    "])\n",
    "\n",
    "df.write_parquet(\"../data/interim/arxiv-abstracts-cleaned_v3.parquet\")\n"
   ],
   "id": "bb902af9d9706e09",
   "outputs": [
    {
     "name": "stderr",
     "output_type": "stream",
     "text": [
      "/tmp/ipykernel_62437/1442429912.py:1: MapWithoutReturnDtypeWarning: Calling `map_elements` without specifying `return_dtype` can lead to unpredictable results. Specify `return_dtype` to silence this warning.\n",
      "  df = df.with_columns([\n",
      "sys:1: MapWithoutReturnDtypeWarning: Calling `map_elements` without specifying `return_dtype` can lead to unpredictable results. Specify `return_dtype` to silence this warning.\n",
      "sys:1: MapWithoutReturnDtypeWarning: Calling `map_elements` without specifying `return_dtype` can lead to unpredictable results. Specify `return_dtype` to silence this warning.\n",
      "sys:1: MapWithoutReturnDtypeWarning: Calling `map_elements` without specifying `return_dtype` can lead to unpredictable results. Specify `return_dtype` to silence this warning.\n",
      "sys:1: MapWithoutReturnDtypeWarning: Calling `map_elements` without specifying `return_dtype` can lead to unpredictable results. Specify `return_dtype` to silence this warning.\n",
      "sys:1: MapWithoutReturnDtypeWarning: Calling `map_elements` without specifying `return_dtype` can lead to unpredictable results. Specify `return_dtype` to silence this warning.\n"
     ]
    }
   ],
   "execution_count": 8
  },
  {
   "metadata": {},
   "cell_type": "markdown",
   "source": "### Phrase Detection",
   "id": "e3b1b04d509c54f7"
  },
  {
   "metadata": {
    "ExecuteTime": {
     "end_time": "2025-02-19T23:06:22.764668Z",
     "start_time": "2025-02-19T23:01:58.768508Z"
    }
   },
   "cell_type": "code",
   "source": [
    "title_token_lists = df[\"title_tokens\"].to_list()\n",
    "abstract_token_lists = df[\"abstract_tokens\"].to_list()\n",
    "title_phraser = build_phraser(title_token_lists)\n",
    "abstract_phraser = build_phraser(abstract_token_lists)\n",
    "\n",
    "df = df.with_columns([\n",
    "    pl.col(\"title_tokens\").map_elements(lambda tokens: apply_phrases(tokens, title_phraser)).alias(\"title_phrases\"),\n",
    "    pl.col(\"abstract_tokens\").map_elements(lambda tokens: apply_phrases(tokens, abstract_phraser)).alias(\"abstract_phrases\")\n",
    "])\n",
    "\n",
    "df.write_parquet(\"../data/interim/arxiv-abstracts-cleaned_v3.parquet\")"
   ],
   "id": "e3e8dc69cec6d43d",
   "outputs": [
    {
     "name": "stderr",
     "output_type": "stream",
     "text": [
      "sys:1: MapWithoutReturnDtypeWarning: Calling `map_elements` without specifying `return_dtype` can lead to unpredictable results. Specify `return_dtype` to silence this warning.\n",
      "sys:1: MapWithoutReturnDtypeWarning: Calling `map_elements` without specifying `return_dtype` can lead to unpredictable results. Specify `return_dtype` to silence this warning.\n"
     ]
    }
   ],
   "execution_count": 9
  },
  {
   "metadata": {
    "ExecuteTime": {
     "end_time": "2025-02-19T23:06:22.815046Z",
     "start_time": "2025-02-19T23:06:22.805656Z"
    }
   },
   "cell_type": "code",
   "source": "df",
   "id": "76a2d8200f1bb91e",
   "outputs": [
    {
     "data": {
      "text/plain": [
       "shape: (1_000_000, 20)\n",
       "┌───────────┬───────────┬───────────┬───────────┬───┬───────────┬───────────┬───────────┬──────────┐\n",
       "│ id        ┆ authors   ┆ title     ┆ abstract  ┆ … ┆ abstract_ ┆ abstract_ ┆ title_phr ┆ abstract │\n",
       "│ ---       ┆ ---       ┆ ---       ┆ ---       ┆   ┆ entities  ┆ pos_tags  ┆ ases      ┆ _phrases │\n",
       "│ str       ┆ str       ┆ str       ┆ str       ┆   ┆ ---       ┆ ---       ┆ ---       ┆ ---      │\n",
       "│           ┆           ┆           ┆           ┆   ┆ list[list ┆ list[list ┆ list[str] ┆ list[str │\n",
       "│           ┆           ┆           ┆           ┆   ┆ [str]]    ┆ [str]]    ┆           ┆ ]        │\n",
       "╞═══════════╪═══════════╪═══════════╪═══════════╪═══╪═══════════╪═══════════╪═══════════╪══════════╡\n",
       "│ 1606.0230 ┆ Shahar    ┆ The super ┆ Spinning  ┆ … ┆ [[\"2 42\", ┆ [[\"spinni ┆ [\"the\",   ┆ [\"spinni │\n",
       "│ 6         ┆ Hod       ┆ radiant   ┆ Kerr      ┆   ┆ \"DATE\"]]  ┆ ng\",      ┆ \"superrad ┆ ng_kerr\" │\n",
       "│           ┆           ┆ instabili ┆ black     ┆   ┆           ┆ \"VERB\"],  ┆ iant_inst ┆ , \"black │\n",
       "│           ┆           ┆ ty r…     ┆ holes ar… ┆   ┆           ┆ [\"kerr\"…  ┆ abil…     ┆ _holes…  │\n",
       "│ hep-ph/98 ┆ W.M.      ┆ Strange   ┆ We        ┆ … ┆ []        ┆ [[\"we\",   ┆ [\"strange ┆ [\"we_con │\n",
       "│ 12388     ┆ Alberico, ┆ form      ┆ consider  ┆   ┆           ┆ \"PRON\"],  ┆ _form\",   ┆ sider\",  │\n",
       "│           ┆ M.B.      ┆ factors   ┆ ratios of ┆   ┆           ┆ [\"conside ┆ \"factors\" ┆ \"ratios\" │\n",
       "│           ┆ Barbaro,  ┆ of the    ┆ elasti…   ┆   ┆           ┆ r\", …     ┆ , … …     ┆ , … \"m…  │\n",
       "│           ┆ S…        ┆ pr…       ┆           ┆   ┆           ┆           ┆           ┆          │\n",
       "│ astro-ph/ ┆ M.        ┆ Predictio ┆ Spectral  ┆ … ┆ [[\"40\",   ┆ [[\"spectr ┆ [\"predict ┆ [\"spectr │\n",
       "│ 0208171   ┆ Boettcher ┆ ns of the ┆ fitting   ┆   ┆ \"CARDINAL ┆ al\",      ┆ ions\",    ┆ al_fitti │\n",
       "│           ┆ (Rice     ┆ High-Ener ┆ of the    ┆   ┆ \"],       ┆ \"ADJ\"],   ┆ \"of\", …   ┆ ng\",     │\n",
       "│           ┆ Univ. /   ┆ gy…       ┆ radi…     ┆   ┆ [\"100\",   ┆ [\"fittin… ┆ \"w_com…   ┆ \"of\", …  │\n",
       "│           ┆ Ohi…      ┆           ┆           ┆   ┆ \"…        ┆           ┆           ┆ \"…       │\n",
       "│ 0912.2791 ┆ Dong-Keun ┆ Dependenc ┆ By using  ┆ … ┆ [[\"zero\", ┆ [[\"by\",   ┆ [\"depende ┆ [\"by\",   │\n",
       "│           ┆ Ki, Seung ┆ e of quan ┆ four-term ┆   ┆ \"CARDINAL ┆ \"ADP\"],   ┆ nce_of\",  ┆ \"using\", │\n",
       "│           ┆ -Geol     ┆ tum-Hall  ┆ inal      ┆   ┆ \"]]       ┆ [\"using\", ┆ \"quantumh ┆ … \"syste │\n",
       "│           ┆ Nam, …    ┆ con…      ┆ confi…    ┆   ┆           ┆ \"VER…     ┆ all…      ┆ m\"]      │\n",
       "│ 0707.3555 ┆ A.        ┆ Power Dep ┆ We        ┆ … ┆ [[\"zero\", ┆ [[\"we\",   ┆ [\"power\", ┆ [\"we_pro │\n",
       "│           ┆ Russell,  ┆ endence   ┆ propose a ┆   ┆ \"CARDINAL ┆ \"PRON\"],  ┆ \"dependen ┆ pose\",   │\n",
       "│           ┆ Vladimir  ┆ of the    ┆ kinetic   ┆   ┆ \"],       ┆ [\"propose ┆ ce_of\", … ┆ \"a\", …   │\n",
       "│           ┆ I. Fal'ko ┆ Photoc…   ┆ theory …  ┆   ┆ [\"excit…  ┆ \", \"…     ┆ \"…        ┆ \"inciden │\n",
       "│           ┆           ┆           ┆           ┆   ┆           ┆           ┆           ┆ …        │\n",
       "│ …         ┆ …         ┆ …         ┆ …         ┆ … ┆ …         ┆ …         ┆ …         ┆ …        │\n",
       "│ cond-mat/ ┆ Youjin    ┆ Critical  ┆ We study  ┆ … ┆ [[\"monte  ┆ [[\"we\",   ┆ [\"critica ┆ [\"we_stu │\n",
       "│ 0701113   ┆ Deng,     ┆ speeding- ┆ the       ┆   ┆ carlo\",   ┆ \"PRON\"],  ┆ l_speedin ┆ dy\",     │\n",
       "│           ┆ Timothy   ┆ up in a   ┆ dynamic   ┆   ┆ \"PERSON\"] ┆ [\"study\", ┆ gup\",     ┆ \"the\", … │\n",
       "│           ┆ M.        ┆ loca…     ┆ critica…  ┆   ┆ , [\"…     ┆ \"VE…      ┆ \"in\", …   ┆ \"dynamic │\n",
       "│           ┆ Garoni…   ┆           ┆           ┆   ┆           ┆           ┆           ┆ …        │\n",
       "│ 2002.1086 ┆ Denis     ┆ Ab initio ┆ The       ┆ … ┆ [[\"2d\",   ┆ [[\"the\",  ┆ [\"ab_init ┆ [\"the\",  │\n",
       "│ 1         ┆ Sabani,   ┆ methodolo ┆ recent    ┆   ┆ \"CARDINAL ┆ \"DET\"],   ┆ io\", \"met ┆ \"recent_ │\n",
       "│           ┆ Cihan     ┆ gy for    ┆ developme ┆   ┆ \"], [\"jma ┆ [\"recent\" ┆ hodology_ ┆ developm │\n",
       "│           ┆ Bacaksiz  ┆ magn…     ┆ nt in th… ┆   ┆ trix…     ┆ , \"A…     ┆ for…      ┆ ent\", …  │\n",
       "│           ┆ a…        ┆           ┆           ┆   ┆           ┆           ┆           ┆          │\n",
       "│ 1310.0237 ┆ Hywel     ┆ Technolog ┆ Recent    ┆ … ┆ []        ┆ [[\"recent ┆ [\"technol ┆ [\"recent │\n",
       "│           ┆ Owen,     ┆ ies for   ┆ developme ┆   ┆           ┆ \",        ┆ ogies_for ┆ _develop │\n",
       "│           ┆ David     ┆ Delivery  ┆ nts for   ┆   ┆           ┆ \"ADJ\"],   ┆ \", \"deliv ┆ ments\",  │\n",
       "│           ┆ Holder,   ┆ of P…     ┆ the …     ┆   ┆           ┆ [\"develop ┆ ery…      ┆ \"for\",…  │\n",
       "│           ┆ Jose…     ┆           ┆           ┆   ┆           ┆ m…        ┆           ┆          │\n",
       "│ 2108.1169 ┆ Zhuojie   ┆ PAENet: A ┆ 3D to 2D  ┆ … ┆ [[\"3d\",   ┆ [[\"3d\",   ┆ [\"paenet\" ┆ [\"3d\",   │\n",
       "│ 5         ┆ Wu,       ┆ Progressi ┆ retinal   ┆   ┆ \"CARDINAL ┆ \"NOUN\"],  ┆ , \"a\", …  ┆ \"to\", …  │\n",
       "│           ┆ Zijian    ┆ ve        ┆ vessel    ┆   ┆ \"],       ┆ [\"to\",    ┆ \"segmenta ┆ \"previou │\n",
       "│           ┆ Wang,     ┆ Attentio… ┆ segm…     ┆   ┆ [\"2d\",    ┆ \"ADP\"]…   ┆ tio…      ┆ s_metho… │\n",
       "│           ┆ Wenxu…    ┆           ┆           ┆   ┆ \"C…       ┆           ┆           ┆          │\n",
       "│ hep-ph/04 ┆ Andrea    ┆ Principle ┆ Next-to-l ┆ … ┆ []        ┆ [[\"nextto ┆ [\"princip ┆ [\"nextto │\n",
       "│ 07286     ┆ Banfi,    ┆ s of      ┆ eading    ┆   ┆           ┆ leading\", ┆ les\",     ┆ leading_ │\n",
       "│           ┆ Gavin P.  ┆ general   ┆ logarithm ┆   ┆           ┆ \"VERB\"],  ┆ \"of\", …   ┆ logarith │\n",
       "│           ┆ Salam a…  ┆ final-st… ┆ ic …      ┆   ┆           ┆ [\"…       ┆ \"implem…  ┆ mic\", …  │\n",
       "└───────────┴───────────┴───────────┴───────────┴───┴───────────┴───────────┴───────────┴──────────┘"
      ],
      "text/html": [
       "<div><style>\n",
       ".dataframe > thead > tr,\n",
       ".dataframe > tbody > tr {\n",
       "  text-align: right;\n",
       "  white-space: pre-wrap;\n",
       "}\n",
       "</style>\n",
       "<small>shape: (1_000_000, 20)</small><table border=\"1\" class=\"dataframe\"><thead><tr><th>id</th><th>authors</th><th>title</th><th>abstract</th><th>title_clean</th><th>title_tokens</th><th>title_tokens_no_stop</th><th>title_lemmatized</th><th>title_stemmed</th><th>title_entities</th><th>title_pos_tags</th><th>abstract_clean</th><th>abstract_tokens</th><th>abstract_tokens_no_stop</th><th>abstract_lemmatized</th><th>abstract_stemmed</th><th>abstract_entities</th><th>abstract_pos_tags</th><th>title_phrases</th><th>abstract_phrases</th></tr><tr><td>str</td><td>str</td><td>str</td><td>str</td><td>str</td><td>list[str]</td><td>list[str]</td><td>list[str]</td><td>list[str]</td><td>list[list[str]]</td><td>list[list[str]]</td><td>str</td><td>list[str]</td><td>list[str]</td><td>list[str]</td><td>list[str]</td><td>list[list[str]]</td><td>list[list[str]]</td><td>list[str]</td><td>list[str]</td></tr></thead><tbody><tr><td>&quot;1606.02306&quot;</td><td>&quot;Shahar Hod&quot;</td><td>&quot;The superradiant instability r…</td><td>&quot;&nbsp;&nbsp;Spinning Kerr black holes ar…</td><td>&quot;the superradiant instability r…</td><td>[&quot;the&quot;, &quot;superradiant&quot;, … &quot;hole&quot;]</td><td>[&quot;superradiant&quot;, &quot;instability&quot;, … &quot;hole&quot;]</td><td>[&quot;superradiant&quot;, &quot;instability&quot;, … &quot;hole&quot;]</td><td>[&quot;superradi&quot;, &quot;instabl&quot;, … &quot;hole&quot;]</td><td>[]</td><td>[[&quot;the&quot;, &quot;DET&quot;], [&quot;superradiant&quot;, &quot;ADJ&quot;], … [&quot;hole&quot;, &quot;NOUN&quot;]]</td><td>&quot;spinning kerr black holes are …</td><td>[&quot;spinning&quot;, &quot;kerr&quot;, … &quot;spectrum&quot;]</td><td>[&quot;spinning&quot;, &quot;kerr&quot;, … &quot;spectrum&quot;]</td><td>[&quot;spin&quot;, &quot;kerr&quot;, … &quot;spectrum&quot;]</td><td>[&quot;spin&quot;, &quot;kerr&quot;, … &quot;spectrum&quot;]</td><td>[[&quot;2 42&quot;, &quot;DATE&quot;]]</td><td>[[&quot;spinning&quot;, &quot;VERB&quot;], [&quot;kerr&quot;, &quot;NOUN&quot;], … [&quot;spectrum&quot;, &quot;VERB&quot;]]</td><td>[&quot;the&quot;, &quot;superradiant_instability&quot;, … &quot;black_hole&quot;]</td><td>[&quot;spinning_kerr&quot;, &quot;black_holes&quot;, … &quot;spectrum&quot;]</td></tr><tr><td>&quot;hep-ph/9812388&quot;</td><td>&quot;W.M. Alberico, M.B. Barbaro, S…</td><td>&quot;Strange form factors of the pr…</td><td>&quot;&nbsp;&nbsp;We consider ratios of elasti…</td><td>&quot;strange form factors of the pr…</td><td>[&quot;strange&quot;, &quot;form&quot;, … &quot;experiment&quot;]</td><td>[&quot;strange&quot;, &quot;form&quot;, … &quot;experiment&quot;]</td><td>[&quot;strange&quot;, &quot;form&quot;, … &quot;experiment&quot;]</td><td>[&quot;strang&quot;, &quot;form&quot;, … &quot;experi&quot;]</td><td>[]</td><td>[[&quot;strange&quot;, &quot;ADJ&quot;], [&quot;form&quot;, &quot;NOUN&quot;], … [&quot;experiment&quot;, &quot;NOUN&quot;]]</td><td>&quot;we consider ratios of elastic …</td><td>[&quot;we&quot;, &quot;consider&quot;, … &quot;mass&quot;]</td><td>[&quot;consider&quot;, &quot;ratios&quot;, … &quot;mass&quot;]</td><td>[&quot;consider&quot;, &quot;ratio&quot;, … &quot;mass&quot;]</td><td>[&quot;consid&quot;, &quot;ratio&quot;, … &quot;mass&quot;]</td><td>[]</td><td>[[&quot;we&quot;, &quot;PRON&quot;], [&quot;consider&quot;, &quot;VERB&quot;], … [&quot;mass&quot;, &quot;NOUN&quot;]]</td><td>[&quot;strange_form&quot;, &quot;factors&quot;, … &quot;experiment&quot;]</td><td>[&quot;we_consider&quot;, &quot;ratios&quot;, … &quot;mass&quot;]</td></tr><tr><td>&quot;astro-ph/0208171&quot;</td><td>&quot;M. Boettcher (Rice Univ. / Ohi…</td><td>&quot;Predictions of the High-Energy…</td><td>&quot;&nbsp;&nbsp;Spectral fitting of the radi…</td><td>&quot;predictions of the highenergy …</td><td>[&quot;predictions&quot;, &quot;of&quot;, … &quot;comae&quot;]</td><td>[&quot;predictions&quot;, &quot;highenergy&quot;, … &quot;comae&quot;]</td><td>[&quot;prediction&quot;, &quot;highenergy&quot;, … &quot;comae&quot;]</td><td>[&quot;predict&quot;, &quot;highenergi&quot;, … &quot;coma&quot;]</td><td>[]</td><td>[[&quot;predictions&quot;, &quot;NOUN&quot;], [&quot;of&quot;, &quot;ADP&quot;], … [&quot;comae&quot;, &quot;PROPN&quot;]]</td><td>&quot;spectral fitting of the radio …</td><td>[&quot;spectral&quot;, &quot;fitting&quot;, … &quot;blazars&quot;]</td><td>[&quot;spectral&quot;, &quot;fitting&quot;, … &quot;blazars&quot;]</td><td>[&quot;spectral&quot;, &quot;fit&quot;, … &quot;blazar&quot;]</td><td>[&quot;spectral&quot;, &quot;fit&quot;, … &quot;blazar&quot;]</td><td>[[&quot;40&quot;, &quot;CARDINAL&quot;], [&quot;100&quot;, &quot;CARDINAL&quot;], … [&quot;hadronic&quot;, &quot;ORG&quot;]]</td><td>[[&quot;spectral&quot;, &quot;ADJ&quot;], [&quot;fitting&quot;, &quot;NOUN&quot;], … [&quot;blazars&quot;, &quot;NOUN&quot;]]</td><td>[&quot;predictions&quot;, &quot;of&quot;, … &quot;w_comae&quot;]</td><td>[&quot;spectral_fitting&quot;, &quot;of&quot;, … &quot;blazars&quot;]</td></tr><tr><td>&quot;0912.2791&quot;</td><td>&quot;Dong-Keun Ki, Seung-Geol Nam, …</td><td>&quot;Dependence of quantum-Hall con…</td><td>&quot;&nbsp;&nbsp;By using four-terminal confi…</td><td>&quot;dependence of quantumhall cond…</td><td>[&quot;dependence&quot;, &quot;of&quot;, … &quot;sheet&quot;]</td><td>[&quot;dependence&quot;, &quot;quantumhall&quot;, … &quot;sheet&quot;]</td><td>[&quot;dependence&quot;, &quot;quantumhall&quot;, … &quot;sheet&quot;]</td><td>[&quot;depend&quot;, &quot;quantumhal&quot;, … &quot;sheet&quot;]</td><td>[]</td><td>[[&quot;dependence&quot;, &quot;NOUN&quot;], [&quot;of&quot;, &quot;ADP&quot;], … [&quot;sheet&quot;, &quot;NOUN&quot;]]</td><td>&quot;by using fourterminal configur…</td><td>[&quot;by&quot;, &quot;using&quot;, … &quot;system&quot;]</td><td>[&quot;using&quot;, &quot;fourterminal&quot;, … &quot;system&quot;]</td><td>[&quot;use&quot;, &quot;fourterminal&quot;, … &quot;system&quot;]</td><td>[&quot;use&quot;, &quot;fourtermin&quot;, … &quot;system&quot;]</td><td>[[&quot;zero&quot;, &quot;CARDINAL&quot;]]</td><td>[[&quot;by&quot;, &quot;ADP&quot;], [&quot;using&quot;, &quot;VERB&quot;], … [&quot;system&quot;, &quot;NOUN&quot;]]</td><td>[&quot;dependence_of&quot;, &quot;quantumhall&quot;, … &quot;sheet&quot;]</td><td>[&quot;by&quot;, &quot;using&quot;, … &quot;system&quot;]</td></tr><tr><td>&quot;0707.3555&quot;</td><td>&quot;A. Russell, Vladimir I. Fal&#x27;ko&quot;</td><td>&quot;Power Dependence of the Photoc…</td><td>&quot;&nbsp;&nbsp;We propose a kinetic theory …</td><td>&quot;power dependence of the photoc…</td><td>[&quot;power&quot;, &quot;dependence&quot;, … &quot;dot&quot;]</td><td>[&quot;power&quot;, &quot;dependence&quot;, … &quot;dot&quot;]</td><td>[&quot;power&quot;, &quot;dependence&quot;, … &quot;dot&quot;]</td><td>[&quot;power&quot;, &quot;depend&quot;, … &quot;dot&quot;]</td><td>[]</td><td>[[&quot;power&quot;, &quot;NOUN&quot;], [&quot;dependence&quot;, &quot;NOUN&quot;], … [&quot;dot&quot;, &quot;NOUN&quot;]]</td><td>&quot;we propose a kinetic theory to…</td><td>[&quot;we&quot;, &quot;propose&quot;, … &quot;light&quot;]</td><td>[&quot;propose&quot;, &quot;kinetic&quot;, … &quot;light&quot;]</td><td>[&quot;propose&quot;, &quot;kinetic&quot;, … &quot;light&quot;]</td><td>[&quot;propos&quot;, &quot;kinet&quot;, … &quot;light&quot;]</td><td>[[&quot;zero&quot;, &quot;CARDINAL&quot;], [&quot;exciton&quot;, &quot;GPE&quot;]]</td><td>[[&quot;we&quot;, &quot;PRON&quot;], [&quot;propose&quot;, &quot;VERB&quot;], … [&quot;light&quot;, &quot;NOUN&quot;]]</td><td>[&quot;power&quot;, &quot;dependence_of&quot;, … &quot;dot&quot;]</td><td>[&quot;we_propose&quot;, &quot;a&quot;, … &quot;incident_light&quot;]</td></tr><tr><td>&hellip;</td><td>&hellip;</td><td>&hellip;</td><td>&hellip;</td><td>&hellip;</td><td>&hellip;</td><td>&hellip;</td><td>&hellip;</td><td>&hellip;</td><td>&hellip;</td><td>&hellip;</td><td>&hellip;</td><td>&hellip;</td><td>&hellip;</td><td>&hellip;</td><td>&hellip;</td><td>&hellip;</td><td>&hellip;</td><td>&hellip;</td><td>&hellip;</td></tr><tr><td>&quot;cond-mat/0701113&quot;</td><td>&quot;Youjin Deng, Timothy M. Garoni…</td><td>&quot;Critical speeding-up in a loca…</td><td>&quot;&nbsp;&nbsp;We study the dynamic critica…</td><td>&quot;critical speedingup in a local…</td><td>[&quot;critical&quot;, &quot;speedingup&quot;, … &quot;model&quot;]</td><td>[&quot;critical&quot;, &quot;speedingup&quot;, … &quot;model&quot;]</td><td>[&quot;critical&quot;, &quot;speedingup&quot;, … &quot;model&quot;]</td><td>[&quot;critic&quot;, &quot;speedingup&quot;, … &quot;model&quot;]</td><td>[]</td><td>[[&quot;critical&quot;, &quot;ADJ&quot;], [&quot;speedingup&quot;, &quot;NOUN&quot;], … [&quot;model&quot;, &quot;NOUN&quot;]]</td><td>&quot;we study the dynamic critical …</td><td>[&quot;we&quot;, &quot;study&quot;, … &quot;dynamics&quot;]</td><td>[&quot;study&quot;, &quot;dynamic&quot;, … &quot;dynamics&quot;]</td><td>[&quot;study&quot;, &quot;dynamic&quot;, … &quot;dynamic&quot;]</td><td>[&quot;studi&quot;, &quot;dynam&quot;, … &quot;dynam&quot;]</td><td>[[&quot;monte carlo&quot;, &quot;PERSON&quot;], [&quot;less than one&quot;, &quot;CARDINAL&quot;], … [&quot;the chayesmachtaswendsenwang cluster dynamics&quot;, &quot;ORG&quot;]]</td><td>[[&quot;we&quot;, &quot;PRON&quot;], [&quot;study&quot;, &quot;VERB&quot;], … [&quot;dynamics&quot;, &quot;NOUN&quot;]]</td><td>[&quot;critical_speedingup&quot;, &quot;in&quot;, … &quot;randomcluster_model&quot;]</td><td>[&quot;we_study&quot;, &quot;the&quot;, … &quot;dynamics&quot;]</td></tr><tr><td>&quot;2002.10861&quot;</td><td>&quot;Denis Sabani, Cihan Bacaksiz a…</td><td>&quot;Ab initio methodology for magn…</td><td>&quot;&nbsp;&nbsp;The recent development in th…</td><td>&quot;ab initio methodology for magn…</td><td>[&quot;ab&quot;, &quot;initio&quot;, … &quot;hamiltonian&quot;]</td><td>[&quot;ab&quot;, &quot;initio&quot;, … &quot;hamiltonian&quot;]</td><td>[&quot;ab&quot;, &quot;initio&quot;, … &quot;hamiltonian&quot;]</td><td>[&quot;ab&quot;, &quot;initio&quot;, … &quot;hamiltonian&quot;]</td><td>[[&quot;heisenberg spin&quot;, &quot;PERSON&quot;]]</td><td>[[&quot;ab&quot;, &quot;PROPN&quot;], [&quot;initio&quot;, &quot;PROPN&quot;], … [&quot;hamiltonian&quot;, &quot;NOUN&quot;]]</td><td>&quot;the recent development in the …</td><td>[&quot;the&quot;, &quot;recent&quot;, … &quot;sites&quot;]</td><td>[&quot;recent&quot;, &quot;development&quot;, … &quot;sites&quot;]</td><td>[&quot;recent&quot;, &quot;development&quot;, … &quot;site&quot;]</td><td>[&quot;recent&quot;, &quot;develop&quot;, … &quot;site&quot;]</td><td>[[&quot;2d&quot;, &quot;CARDINAL&quot;], [&quot;jmatrix&quot;, &quot;PERSON&quot;], [&quot;four&quot;, &quot;CARDINAL&quot;]]</td><td>[[&quot;the&quot;, &quot;DET&quot;], [&quot;recent&quot;, &quot;ADJ&quot;], … [&quot;sites&quot;, &quot;NOUN&quot;]]</td><td>[&quot;ab_initio&quot;, &quot;methodology_for&quot;, … &quot;hamiltonian&quot;]</td><td>[&quot;the&quot;, &quot;recent_development&quot;, … &quot;sites&quot;]</td></tr><tr><td>&quot;1310.0237&quot;</td><td>&quot;Hywel Owen, David Holder, Jose…</td><td>&quot;Technologies for Delivery of P…</td><td>&quot;&nbsp;&nbsp;Recent developments for the …</td><td>&quot;technologies for delivery of p…</td><td>[&quot;technologies&quot;, &quot;for&quot;, … &quot;radiotherapy&quot;]</td><td>[&quot;technologies&quot;, &quot;delivery&quot;, … &quot;radiotherapy&quot;]</td><td>[&quot;technology&quot;, &quot;delivery&quot;, … &quot;radiotherapy&quot;]</td><td>[&quot;technolog&quot;, &quot;deliveri&quot;, … &quot;radiotherapi&quot;]</td><td>[]</td><td>[[&quot;technologies&quot;, &quot;NOUN&quot;], [&quot;for&quot;, &quot;ADP&quot;], … [&quot;radiotherapy&quot;, &quot;NOUN&quot;]]</td><td>&quot;recent developments for the de…</td><td>[&quot;recent&quot;, &quot;developments&quot;, … &quot;particles&quot;]</td><td>[&quot;recent&quot;, &quot;developments&quot;, … &quot;particles&quot;]</td><td>[&quot;recent&quot;, &quot;development&quot;, … &quot;particle&quot;]</td><td>[&quot;recent&quot;, &quot;develop&quot;, … &quot;particl&quot;]</td><td>[]</td><td>[[&quot;recent&quot;, &quot;ADJ&quot;], [&quot;developments&quot;, &quot;NOUN&quot;], … [&quot;particles&quot;, &quot;NOUN&quot;]]</td><td>[&quot;technologies_for&quot;, &quot;delivery&quot;, … &quot;radiotherapy&quot;]</td><td>[&quot;recent_developments&quot;, &quot;for&quot;, … &quot;particles&quot;]</td></tr><tr><td>&quot;2108.11695&quot;</td><td>&quot;Zhuojie Wu, Zijian Wang, Wenxu…</td><td>&quot;PAENet: A Progressive Attentio…</td><td>&quot;&nbsp;&nbsp;3D to 2D retinal vessel segm…</td><td>&quot;paenet a progressive attention…</td><td>[&quot;paenet&quot;, &quot;a&quot;, … &quot;segmentation&quot;]</td><td>[&quot;paenet&quot;, &quot;progressive&quot;, … &quot;segmentation&quot;]</td><td>[&quot;paenet&quot;, &quot;progressive&quot;, … &quot;segmentation&quot;]</td><td>[&quot;paenet&quot;, &quot;progress&quot;, … &quot;segment&quot;]</td><td>[[&quot;3d&quot;, &quot;CARDINAL&quot;], [&quot;2d&quot;, &quot;CARDINAL&quot;]]</td><td>[[&quot;paenet&quot;, &quot;VERB&quot;], [&quot;a&quot;, &quot;DET&quot;], … [&quot;segmentation&quot;, &quot;NOUN&quot;]]</td><td>&quot;3d to 2d retinal vessel segmen…</td><td>[&quot;3d&quot;, &quot;to&quot;, … &quot;methods&quot;]</td><td>[&quot;3d&quot;, &quot;2d&quot;, … &quot;methods&quot;]</td><td>[&quot;3d&quot;, &quot;2d&quot;, … &quot;method&quot;]</td><td>[&quot;3d&quot;, &quot;2d&quot;, … &quot;method&quot;]</td><td>[[&quot;3d&quot;, &quot;CARDINAL&quot;], [&quot;2d&quot;, &quot;CARDINAL&quot;], … [&quot;2d&quot;, &quot;CARDINAL&quot;]]</td><td>[[&quot;3d&quot;, &quot;NOUN&quot;], [&quot;to&quot;, &quot;ADP&quot;], … [&quot;methods&quot;, &quot;NOUN&quot;]]</td><td>[&quot;paenet&quot;, &quot;a&quot;, … &quot;segmentation&quot;]</td><td>[&quot;3d&quot;, &quot;to&quot;, … &quot;previous_methods&quot;]</td></tr><tr><td>&quot;hep-ph/0407286&quot;</td><td>&quot;Andrea Banfi, Gavin P. Salam a…</td><td>&quot;Principles of general final-st…</td><td>&quot;&nbsp;&nbsp;Next-to-leading logarithmic …</td><td>&quot;principles of general finalsta…</td><td>[&quot;principles&quot;, &quot;of&quot;, … &quot;implementation&quot;]</td><td>[&quot;principles&quot;, &quot;general&quot;, … &quot;implementation&quot;]</td><td>[&quot;principle&quot;, &quot;general&quot;, … &quot;implementation&quot;]</td><td>[&quot;principl&quot;, &quot;gener&quot;, … &quot;implement&quot;]</td><td>[]</td><td>[[&quot;principles&quot;, &quot;NOUN&quot;], [&quot;of&quot;, &quot;ADP&quot;], … [&quot;implementation&quot;, &quot;NOUN&quot;]]</td><td>&quot;nexttoleading logarithmic fina…</td><td>[&quot;nexttoleading&quot;, &quot;logarithmic&quot;, … &quot;processes&quot;]</td><td>[&quot;nexttoleading&quot;, &quot;logarithmic&quot;, … &quot;processes&quot;]</td><td>[&quot;nexttoleade&quot;, &quot;logarithmic&quot;, … &quot;process&quot;]</td><td>[&quot;nexttolead&quot;, &quot;logarithm&quot;, … &quot;process&quot;]</td><td>[]</td><td>[[&quot;nexttoleading&quot;, &quot;VERB&quot;], [&quot;logarithmic&quot;, &quot;ADJ&quot;], … [&quot;processes&quot;, &quot;NOUN&quot;]]</td><td>[&quot;principles&quot;, &quot;of&quot;, … &quot;implementation&quot;]</td><td>[&quot;nexttoleading_logarithmic&quot;, &quot;finalstate&quot;, … &quot;processes&quot;]</td></tr></tbody></table></div>"
      ]
     },
     "execution_count": 10,
     "metadata": {},
     "output_type": "execute_result"
    }
   ],
   "execution_count": 10
  }
 ],
 "metadata": {
  "kernelspec": {
   "display_name": "Python 3",
   "language": "python",
   "name": "python3"
  },
  "language_info": {
   "codemirror_mode": {
    "name": "ipython",
    "version": 2
   },
   "file_extension": ".py",
   "mimetype": "text/x-python",
   "name": "python",
   "nbconvert_exporter": "python",
   "pygments_lexer": "ipython2",
   "version": "2.7.6"
  }
 },
 "nbformat": 4,
 "nbformat_minor": 5
}
