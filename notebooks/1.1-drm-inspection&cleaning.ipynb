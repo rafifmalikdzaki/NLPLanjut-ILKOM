{
 "cells": [
  {
   "cell_type": "code",
   "id": "initial_id",
   "metadata": {
    "collapsed": true,
    "ExecuteTime": {
     "end_time": "2025-02-18T12:11:50.551578Z",
     "start_time": "2025-02-18T12:11:50.054693Z"
    }
   },
   "source": [
    "import polars as pl\n",
    "\n",
    "df = pl.read_parquet('../data/raw/arxiv-abstracts.parquet', columns=['id', 'authors', 'title', 'abstract'])\n",
    "df = df.sample(n=50_000, with_replacement=False, seed=124)\n",
    "# df = pl.read_parquet('../data/raw/arxiv-abstracts.parquet', columns=['id', 'authors', 'title', 'abstract'])\n"
   ],
   "outputs": [],
   "execution_count": 11
  },
  {
   "metadata": {
    "ExecuteTime": {
     "end_time": "2025-02-18T12:11:50.611763Z",
     "start_time": "2025-02-18T12:11:50.607756Z"
    }
   },
   "cell_type": "code",
   "source": "df",
   "id": "a9d11d3980b7c502",
   "outputs": [
    {
     "data": {
      "text/plain": [
       "shape: (50_000, 4)\n",
       "┌──────────────────┬──────────────────────────┬──────────────────────────┬─────────────────────────┐\n",
       "│ id               ┆ authors                  ┆ title                    ┆ abstract                │\n",
       "│ ---              ┆ ---                      ┆ ---                      ┆ ---                     │\n",
       "│ str              ┆ str                      ┆ str                      ┆ str                     │\n",
       "╞══════════════════╪══════════════════════════╪══════════════════════════╪═════════════════════════╡\n",
       "│ physics/0107021  ┆ Adrien Schoof, Jan       ┆ Reducing the linewidth   ┆ An extended cavity      │\n",
       "│                  ┆ Gruenert, S…             ┆ of a di…                 ┆ diode las…              │\n",
       "│ 1606.02306       ┆ Shahar Hod               ┆ The superradiant         ┆ Spinning Kerr black     │\n",
       "│                  ┆                          ┆ instability r…           ┆ holes ar…               │\n",
       "│ hep-ph/9812388   ┆ W.M. Alberico, M.B.      ┆ Strange form factors of  ┆ We consider ratios of   │\n",
       "│                  ┆ Barbaro, S…              ┆ the pr…                  ┆ elasti…                 │\n",
       "│ astro-ph/0208171 ┆ M. Boettcher (Rice Univ. ┆ Predictions of the       ┆ Spectral fitting of the │\n",
       "│                  ┆ / Ohi…                   ┆ High-Energy…             ┆ radi…                   │\n",
       "│ 0912.2788        ┆ Xiaodong Liu, Bo Zhang   ┆ Inverse scattering by an ┆ This paper is concerned │\n",
       "│                  ┆                          ┆ inhom…                   ┆ with…                   │\n",
       "│ …                ┆ …                        ┆ …                        ┆ …                       │\n",
       "│ 1809.09358       ┆ Alexander Bednyakov and  ┆ FCNC decays of the Higgs ┆ We consider             │\n",
       "│                  ┆ Veroni…                  ┆ boson…                   ┆ flavor-changing …       │\n",
       "│ 1906.02111       ┆ Yuyu Zhang, Xinshi Chen, ┆ Can Graph Neural         ┆ Effectively combining   │\n",
       "│                  ┆ Yuan …                   ┆ Networks Help…           ┆ logic …                 │\n",
       "│ cs/0504047       ┆ David Doty, Jared        ┆ Pushdown dimension       ┆ This paper develops the │\n",
       "│                  ┆ Nichols                  ┆                          ┆ theo…                   │\n",
       "│ 2009.12889       ┆ P. Holicky, M. Zeleny    ┆ There is no bound on     ┆ We show that for every  │\n",
       "│                  ┆                          ┆ Borel cla…               ┆ ordin…                  │\n",
       "│ 1904.08668       ┆ Federico Magliani and    ┆ An Efficient Approximate ┆ The application of the  │\n",
       "│                  ┆ Kevin Mc…                ┆ kNN G…                   ┆ diffu…                  │\n",
       "└──────────────────┴──────────────────────────┴──────────────────────────┴─────────────────────────┘"
      ],
      "text/html": [
       "<div><style>\n",
       ".dataframe > thead > tr,\n",
       ".dataframe > tbody > tr {\n",
       "  text-align: right;\n",
       "  white-space: pre-wrap;\n",
       "}\n",
       "</style>\n",
       "<small>shape: (50_000, 4)</small><table border=\"1\" class=\"dataframe\"><thead><tr><th>id</th><th>authors</th><th>title</th><th>abstract</th></tr><tr><td>str</td><td>str</td><td>str</td><td>str</td></tr></thead><tbody><tr><td>&quot;physics/0107021&quot;</td><td>&quot;Adrien Schoof, Jan Gruenert, S…</td><td>&quot;Reducing the linewidth of a di…</td><td>&quot;&nbsp;&nbsp;An extended cavity diode las…</td></tr><tr><td>&quot;1606.02306&quot;</td><td>&quot;Shahar Hod&quot;</td><td>&quot;The superradiant instability r…</td><td>&quot;&nbsp;&nbsp;Spinning Kerr black holes ar…</td></tr><tr><td>&quot;hep-ph/9812388&quot;</td><td>&quot;W.M. Alberico, M.B. Barbaro, S…</td><td>&quot;Strange form factors of the pr…</td><td>&quot;&nbsp;&nbsp;We consider ratios of elasti…</td></tr><tr><td>&quot;astro-ph/0208171&quot;</td><td>&quot;M. Boettcher (Rice Univ. / Ohi…</td><td>&quot;Predictions of the High-Energy…</td><td>&quot;&nbsp;&nbsp;Spectral fitting of the radi…</td></tr><tr><td>&quot;0912.2788&quot;</td><td>&quot;Xiaodong Liu, Bo Zhang&quot;</td><td>&quot;Inverse scattering by an inhom…</td><td>&quot;&nbsp;&nbsp;This paper is concerned with…</td></tr><tr><td>&hellip;</td><td>&hellip;</td><td>&hellip;</td><td>&hellip;</td></tr><tr><td>&quot;1809.09358&quot;</td><td>&quot;Alexander Bednyakov and Veroni…</td><td>&quot;FCNC decays of the Higgs boson…</td><td>&quot;&nbsp;&nbsp;We consider flavor-changing …</td></tr><tr><td>&quot;1906.02111&quot;</td><td>&quot;Yuyu Zhang, Xinshi Chen, Yuan …</td><td>&quot;Can Graph Neural Networks Help…</td><td>&quot;&nbsp;&nbsp;Effectively combining logic …</td></tr><tr><td>&quot;cs/0504047&quot;</td><td>&quot;David Doty, Jared Nichols&quot;</td><td>&quot;Pushdown dimension&quot;</td><td>&quot;&nbsp;&nbsp;This paper develops the theo…</td></tr><tr><td>&quot;2009.12889&quot;</td><td>&quot;P. Holicky, M. Zeleny&quot;</td><td>&quot;There is no bound on Borel cla…</td><td>&quot;&nbsp;&nbsp;We show that for every ordin…</td></tr><tr><td>&quot;1904.08668&quot;</td><td>&quot;Federico Magliani and Kevin Mc…</td><td>&quot;An Efficient Approximate kNN G…</td><td>&quot;&nbsp;&nbsp;The application of the diffu…</td></tr></tbody></table></div>"
      ]
     },
     "execution_count": 12,
     "metadata": {},
     "output_type": "execute_result"
    }
   ],
   "execution_count": 12
  },
  {
   "metadata": {
    "ExecuteTime": {
     "end_time": "2025-02-18T12:11:50.961445Z",
     "start_time": "2025-02-18T12:11:50.646575Z"
    }
   },
   "cell_type": "code",
   "source": [
    "import re\n",
    "import string\n",
    "import random\n",
    "import nltk\n",
    "import spacy\n",
    "from bs4 import BeautifulSoup\n",
    "from nltk.corpus import stopwords, wordnet\n",
    "from nltk.stem import PorterStemmer\n",
    "from nltk.tokenize import word_tokenize, sent_tokenize\n",
    "from gensim.models.phrases import Phrases, Phraser\n",
    "from sklearn.feature_extraction.text import TfidfVectorizer\n",
    "import gensim\n",
    "from gensim import corpora, models\n",
    "from sklearn.model_selection import train_test_split\n",
    "from sklearn.linear_model import LogisticRegression\n",
    "from sklearn.metrics import classification_report\n",
    "import joblib\n",
    "# Uncomment the following lines if you wish to use SHAP (requires a graphical environment)\n",
    "# import shap\n",
    "# shap.initjs()\n",
    "\n",
    "# Download necessary NLTK data files (run once)\n",
    "nltk.download('punkt')\n",
    "nltk.download('stopwords')\n",
    "nltk.download('wordnet')\n",
    "ps = PorterStemmer()\n",
    "\n",
    "# Load spaCy English model\n",
    "nlp = spacy.load(\"en_core_web_sm\")"
   ],
   "id": "549d7f1f8a393c3d",
   "outputs": [
    {
     "name": "stderr",
     "output_type": "stream",
     "text": [
      "[nltk_data] Downloading package punkt to /home/dzakirm/nltk_data...\n",
      "[nltk_data]   Package punkt is already up-to-date!\n",
      "[nltk_data] Downloading package stopwords to\n",
      "[nltk_data]     /home/dzakirm/nltk_data...\n",
      "[nltk_data]   Package stopwords is already up-to-date!\n",
      "[nltk_data] Downloading package wordnet to /home/dzakirm/nltk_data...\n",
      "[nltk_data]   Package wordnet is already up-to-date!\n"
     ]
    }
   ],
   "execution_count": 13
  },
  {
   "metadata": {},
   "cell_type": "markdown",
   "source": "## Basic Preprocessing",
   "id": "93710c8c9ebfd3ff"
  },
  {
   "metadata": {
    "ExecuteTime": {
     "end_time": "2025-02-18T12:11:51.305179Z",
     "start_time": "2025-02-18T12:11:51.023542Z"
    }
   },
   "cell_type": "code",
   "source": [
    "import re\n",
    "import polars as pl\n",
    "import nltk\n",
    "import spacy\n",
    "from nltk.corpus import stopwords, wordnet\n",
    "from nltk.tokenize import word_tokenize\n",
    "from nltk.stem import PorterStemmer\n",
    "from gensim.models.phrases import Phrases, Phraser\n",
    "\n",
    "nltk.download('punkt')\n",
    "nltk.download('stopwords')\n",
    "nltk.download('wordnet')\n",
    "\n",
    "nlp = spacy.load(\"en_core_web_sm\")\n",
    "ps = PorterStemmer()\n",
    "stop_words = set(stopwords.words('english'))\n",
    "\n",
    "def clean_arxiv_abstract(text: str) -> str:\n",
    "    if not isinstance(text, str):\n",
    "        return \"\"\n",
    "    # Convert to lowercase\n",
    "    text = text.lower()\n",
    "    # Remove display math (DOTALL to catch newlines)\n",
    "    text = re.sub(r'\\$\\$.*?\\$\\$', '', text, flags=re.DOTALL)\n",
    "    # Remove inline math expressions\n",
    "    text = re.sub(r'\\$.*?\\$', '', text)\n",
    "    # Remove LaTeX commands (e.g., \\emph{...}, \\textbf{...})\n",
    "    text = re.sub(r'\\\\[a-zA-Z]+\\*?(?:\\[[^\\]]*\\])?(?:\\{[^}]*\\})?', '', text)\n",
    "    # Remove citation markers like [1] or [1,2,3]\n",
    "    text = re.sub(r'\\[[^\\]]*\\]', '', text)\n",
    "    # Collapse extra whitespace\n",
    "    text = re.sub(r'\\s+', ' ', text).strip()\n",
    "    return text\n",
    "\n",
    "def tokenize_text(text: str) -> list:\n",
    "    \"\"\"Tokenize a string into words.\"\"\"\n",
    "    if not isinstance(text, str):\n",
    "        return []\n",
    "    return word_tokenize(text)\n",
    "\n",
    "def remove_stopwords(tokens: list) -> list:\n",
    "    \"\"\"Remove stopwords from a list of tokens.\"\"\"\n",
    "    return [token for token in tokens if token not in stop_words]\n",
    "\n",
    "def lemmatize_tokens(tokens: list) -> list:\n",
    "    \"\"\"Lemmatize tokens using spaCy.\"\"\"\n",
    "    doc = nlp(\" \".join(tokens))\n",
    "    return [token.lemma_ for token in doc]\n",
    "\n",
    "def stem_tokens(tokens: list) -> list:\n",
    "    \"\"\"Stem tokens using NLTK's PorterStemmer.\"\"\"\n",
    "    return [ps.stem(token) for token in tokens]\n",
    "\n",
    "def named_entity_recognition(text: str) -> list:\n",
    "    \"\"\"Extract named entities from text using spaCy.\"\"\"\n",
    "    if not isinstance(text, str):\n",
    "        return []\n",
    "    doc = nlp(text)\n",
    "    return [(ent.text, ent.label_) for ent in doc.ents]\n",
    "\n",
    "def pos_tagging(text: str) -> list:\n",
    "    \"\"\"Extract POS tags from text using spaCy.\"\"\"\n",
    "    if not isinstance(text, str):\n",
    "        return []\n",
    "    doc = nlp(text)\n",
    "    return [(token.text, token.pos_) for token in doc]\n",
    "\n",
    "def build_phraser(token_lists: list) -> Phraser:\n",
    "    \"\"\"Build a bigram phraser using Gensim's Phrases.\"\"\"\n",
    "    phrases = Phrases(token_lists, min_count=1, threshold=2)\n",
    "    return Phraser(phrases)\n",
    "\n",
    "def apply_phrases(tokens: list, phraser: Phraser) -> list:\n",
    "    \"\"\"Apply a pre-built phraser to a list of tokens.\"\"\"\n",
    "    return phraser[tokens]"
   ],
   "id": "1d69d408c363abbb",
   "outputs": [
    {
     "name": "stderr",
     "output_type": "stream",
     "text": [
      "[nltk_data] Downloading package punkt to /home/dzakirm/nltk_data...\n",
      "[nltk_data]   Package punkt is already up-to-date!\n",
      "[nltk_data] Downloading package stopwords to\n",
      "[nltk_data]     /home/dzakirm/nltk_data...\n",
      "[nltk_data]   Package stopwords is already up-to-date!\n",
      "[nltk_data] Downloading package wordnet to /home/dzakirm/nltk_data...\n",
      "[nltk_data]   Package wordnet is already up-to-date!\n"
     ]
    }
   ],
   "execution_count": 14
  },
  {
   "metadata": {},
   "cell_type": "markdown",
   "source": "## Cleaning",
   "id": "9ad29d5aae0e5355"
  },
  {
   "metadata": {},
   "cell_type": "markdown",
   "source": "### Title",
   "id": "5b94c5a349c6ec50"
  },
  {
   "metadata": {
    "ExecuteTime": {
     "end_time": "2025-02-18T12:11:55.319208Z",
     "start_time": "2025-02-18T12:11:51.344157Z"
    }
   },
   "cell_type": "code",
   "source": [
    "df = df.with_columns([\n",
    "    pl.col(\"title\").map_elements(clean_arxiv_abstract).alias(\"title_clean\"),\n",
    "    pl.col(\"title\").map_elements(lambda x: tokenize_text(clean_arxiv_abstract(x))).alias(\"title_tokens\")\n",
    "])\n",
    "\n",
    "df.write_parquet(\"../data/interim/arxiv-abstracts-cleaned.parquet\")\n"
   ],
   "id": "21d28053fed5fcbc",
   "outputs": [
    {
     "name": "stderr",
     "output_type": "stream",
     "text": [
      "sys:1: MapWithoutReturnDtypeWarning: Calling `map_elements` without specifying `return_dtype` can lead to unpredictable results. Specify `return_dtype` to silence this warning.\n",
      "sys:1: MapWithoutReturnDtypeWarning: Calling `map_elements` without specifying `return_dtype` can lead to unpredictable results. Specify `return_dtype` to silence this warning.\n"
     ]
    }
   ],
   "execution_count": 15
  },
  {
   "metadata": {
    "jupyter": {
     "is_executing": true
    },
    "ExecuteTime": {
     "start_time": "2025-02-18T12:11:55.327066Z"
    }
   },
   "cell_type": "code",
   "source": [
    "df = df.with_columns([\n",
    "    pl.col(\"title_tokens\").map_elements(remove_stopwords).alias(\"title_tokens_no_stop\"),\n",
    "])\n",
    "\n",
    "df = df.with_columns([\n",
    "    pl.col(\"title_tokens\").map_elements(remove_stopwords).alias(\"title_tokens_no_stop\"),\n",
    "    pl.col(\"title_tokens_no_stop\").map_elements(lemmatize_tokens).alias(\"title_lemmatized\"),\n",
    "    pl.col(\"title_tokens_no_stop\").map_elements(stem_tokens).alias(\"title_stemmed\"),\n",
    "    pl.col(\"title_clean\").map_elements(named_entity_recognition).alias(\"title_entities\"),\n",
    "    pl.col(\"title_clean\").map_elements(pos_tagging).alias(\"title_pos_tags\")\n",
    "])\n",
    "\n",
    "df.write_parquet(\"../data/interim/arxiv-abstracts-cleaned.parquet\")\n"
   ],
   "id": "7bcb0eb266fbe11c",
   "outputs": [
    {
     "name": "stderr",
     "output_type": "stream",
     "text": [
      "/tmp/ipykernel_40973/2596191918.py:1: MapWithoutReturnDtypeWarning: Calling `map_elements` without specifying `return_dtype` can lead to unpredictable results. Specify `return_dtype` to silence this warning.\n",
      "  df = df.with_columns([\n",
      "sys:1: MapWithoutReturnDtypeWarning: Calling `map_elements` without specifying `return_dtype` can lead to unpredictable results. Specify `return_dtype` to silence this warning.\n",
      "sys:1: MapWithoutReturnDtypeWarning: Calling `map_elements` without specifying `return_dtype` can lead to unpredictable results. Specify `return_dtype` to silence this warning.\n",
      "sys:1: MapWithoutReturnDtypeWarning: Calling `map_elements` without specifying `return_dtype` can lead to unpredictable results. Specify `return_dtype` to silence this warning.\n",
      "sys:1: MapWithoutReturnDtypeWarning: Calling `map_elements` without specifying `return_dtype` can lead to unpredictable results. Specify `return_dtype` to silence this warning.\n",
      "sys:1: MapWithoutReturnDtypeWarning: Calling `map_elements` without specifying `return_dtype` can lead to unpredictable results. Specify `return_dtype` to silence this warning.\n"
     ]
    }
   ],
   "execution_count": null
  },
  {
   "metadata": {},
   "cell_type": "markdown",
   "source": "### Abstract",
   "id": "c191459211447c08"
  },
  {
   "metadata": {
    "ExecuteTime": {
     "end_time": "2025-02-18T11:49:59.696143Z",
     "start_time": "2025-02-18T11:49:30.929589Z"
    }
   },
   "cell_type": "code",
   "source": [
    "df = df.with_columns([\n",
    "    pl.col(\"abstract\").map_elements(clean_arxiv_abstract).alias(\"abstract_clean\"),\n",
    "    pl.col(\"abstract\").map_elements(lambda x: tokenize_text(clean_arxiv_abstract(x))).alias(\"abstract_tokens\")\n",
    "])\n",
    "\n",
    "df.write_parquet(\"../data/interim/arxiv-abstracts-cleaned.parquet\")\n"
   ],
   "id": "5f062db2e5538955",
   "outputs": [
    {
     "name": "stderr",
     "output_type": "stream",
     "text": [
      "sys:1: MapWithoutReturnDtypeWarning: Calling `map_elements` without specifying `return_dtype` can lead to unpredictable results. Specify `return_dtype` to silence this warning.\n",
      "sys:1: MapWithoutReturnDtypeWarning: Calling `map_elements` without specifying `return_dtype` can lead to unpredictable results. Specify `return_dtype` to silence this warning.\n"
     ]
    }
   ],
   "execution_count": 7
  },
  {
   "metadata": {
    "ExecuteTime": {
     "end_time": "2025-02-18T12:11:34.033596Z",
     "start_time": "2025-02-18T11:49:59.700545Z"
    }
   },
   "cell_type": "code",
   "source": [
    "df = df.with_columns([\n",
    "    pl.col(\"abstract_tokens\").map_elements(remove_stopwords).alias(\"abstract_tokens_no_stop\"),\n",
    "])\n",
    "\n",
    "df = df.with_columns([\n",
    "    pl.col(\"abstract_tokens\").map_elements(remove_stopwords).alias(\"abstract_tokens_no_stop\"),\n",
    "    pl.col(\"abstract_tokens_no_stop\").map_elements(lemmatize_tokens).alias(\"abstract_lemmatized\"),\n",
    "    pl.col(\"abstract_tokens_no_stop\").map_elements(stem_tokens).alias(\"abstract_stemmed\"),\n",
    "    pl.col(\"abstract_clean\").map_elements(named_entity_recognition).alias(\"abstract_entities\"),\n",
    "    pl.col(\"abstract_clean\").map_elements(pos_tagging).alias(\"abstract_pos_tags\")\n",
    "])\n",
    "\n",
    "df.write_parquet(\"../data/interim/arxiv-abstracts-cleaned.parquet\")\n"
   ],
   "id": "bb902af9d9706e09",
   "outputs": [
    {
     "name": "stderr",
     "output_type": "stream",
     "text": [
      "/tmp/ipykernel_40973/3408080872.py:1: MapWithoutReturnDtypeWarning: Calling `map_elements` without specifying `return_dtype` can lead to unpredictable results. Specify `return_dtype` to silence this warning.\n",
      "  df = df.with_columns([\n",
      "sys:1: MapWithoutReturnDtypeWarning: Calling `map_elements` without specifying `return_dtype` can lead to unpredictable results. Specify `return_dtype` to silence this warning.\n",
      "sys:1: MapWithoutReturnDtypeWarning: Calling `map_elements` without specifying `return_dtype` can lead to unpredictable results. Specify `return_dtype` to silence this warning.\n",
      "sys:1: MapWithoutReturnDtypeWarning: Calling `map_elements` without specifying `return_dtype` can lead to unpredictable results. Specify `return_dtype` to silence this warning.\n",
      "sys:1: MapWithoutReturnDtypeWarning: Calling `map_elements` without specifying `return_dtype` can lead to unpredictable results. Specify `return_dtype` to silence this warning.\n",
      "sys:1: MapWithoutReturnDtypeWarning: Calling `map_elements` without specifying `return_dtype` can lead to unpredictable results. Specify `return_dtype` to silence this warning.\n"
     ]
    }
   ],
   "execution_count": 8
  },
  {
   "metadata": {},
   "cell_type": "markdown",
   "source": "### Phrase Detection",
   "id": "e3b1b04d509c54f7"
  },
  {
   "metadata": {
    "ExecuteTime": {
     "end_time": "2025-02-18T12:11:49.980811Z",
     "start_time": "2025-02-18T12:11:34.043754Z"
    }
   },
   "cell_type": "code",
   "source": [
    "title_token_lists = df[\"title_tokens\"].to_list()\n",
    "abstract_token_lists = df[\"abstract_tokens\"].to_list()\n",
    "title_phraser = build_phraser(title_token_lists)\n",
    "abstract_phraser = build_phraser(abstract_token_lists)\n",
    "\n",
    "df = df.with_columns([\n",
    "    pl.col(\"title_tokens\").map_elements(lambda tokens: apply_phrases(tokens, title_phraser)).alias(\"title_phrases\"),\n",
    "    pl.col(\"abstract_tokens\").map_elements(lambda tokens: apply_phrases(tokens, abstract_phraser)).alias(\"abstract_phrases\")\n",
    "])\n",
    "\n",
    "df.write_parquet(\"../data/interim/arxiv-abstracts-cleaned.parquet\")"
   ],
   "id": "e3e8dc69cec6d43d",
   "outputs": [
    {
     "name": "stderr",
     "output_type": "stream",
     "text": [
      "sys:1: MapWithoutReturnDtypeWarning: Calling `map_elements` without specifying `return_dtype` can lead to unpredictable results. Specify `return_dtype` to silence this warning.\n",
      "sys:1: MapWithoutReturnDtypeWarning: Calling `map_elements` without specifying `return_dtype` can lead to unpredictable results. Specify `return_dtype` to silence this warning.\n"
     ]
    }
   ],
   "execution_count": 9
  },
  {
   "metadata": {
    "ExecuteTime": {
     "end_time": "2025-02-18T12:11:49.989703Z",
     "start_time": "2025-02-18T12:11:49.984977Z"
    }
   },
   "cell_type": "code",
   "source": "df",
   "id": "76a2d8200f1bb91e",
   "outputs": [
    {
     "data": {
      "text/plain": [
       "shape: (50_000, 20)\n",
       "┌───────────┬───────────┬───────────┬───────────┬───┬───────────┬───────────┬───────────┬──────────┐\n",
       "│ id        ┆ authors   ┆ title     ┆ abstract  ┆ … ┆ abstract_ ┆ abstract_ ┆ title_phr ┆ abstract │\n",
       "│ ---       ┆ ---       ┆ ---       ┆ ---       ┆   ┆ entities  ┆ pos_tags  ┆ ases      ┆ _phrases │\n",
       "│ str       ┆ str       ┆ str       ┆ str       ┆   ┆ ---       ┆ ---       ┆ ---       ┆ ---      │\n",
       "│           ┆           ┆           ┆           ┆   ┆ list[list ┆ list[list ┆ list[str] ┆ list[str │\n",
       "│           ┆           ┆           ┆           ┆   ┆ [str]]    ┆ [str]]    ┆           ┆ ]        │\n",
       "╞═══════════╪═══════════╪═══════════╪═══════════╪═══╪═══════════╪═══════════╪═══════════╪══════════╡\n",
       "│ physics/0 ┆ Adrien    ┆ Reducing  ┆ An        ┆ … ┆ [[\"657\",  ┆ [[\"an\",   ┆ [\"reducin ┆ [\"an_ext │\n",
       "│ 107021    ┆ Schoof,   ┆ the       ┆ extended  ┆   ┆ \"CARDINAL ┆ \"DET\"],   ┆ g_the\",   ┆ ended\",  │\n",
       "│           ┆ Jan       ┆ linewidth ┆ cavity    ┆   ┆ \"],       ┆ [\"extende ┆ \"linewidt ┆ \"cavity_ │\n",
       "│           ┆ Gruenert, ┆ of a di…  ┆ diode     ┆   ┆ [\"more t… ┆ d\", \"…    ┆ h\", …     ┆ diode\"…  │\n",
       "│           ┆ S…        ┆           ┆ las…      ┆   ┆           ┆           ┆           ┆          │\n",
       "│ 1606.0230 ┆ Shahar    ┆ The super ┆ Spinning  ┆ … ┆ [[\"4\",    ┆ [[\"spinni ┆ [\"the\",   ┆ [\"spinni │\n",
       "│ 6         ┆ Hod       ┆ radiant   ┆ Kerr      ┆   ┆ \"CARDINAL ┆ ng\",      ┆ \"superrad ┆ ng_kerr\" │\n",
       "│           ┆           ┆ instabili ┆ black     ┆   ┆ \"], [\"2}} ┆ \"VERB\"],  ┆ iant_inst ┆ , \"black │\n",
       "│           ┆           ┆ ty r…     ┆ holes ar… ┆   ┆ }\\{,m…    ┆ [\"kerr\"…  ┆ abil…     ┆ _holes…  │\n",
       "│ hep-ph/98 ┆ W.M.      ┆ Strange   ┆ We        ┆ … ┆ []        ┆ [[\"we\",   ┆ [\"strange ┆ [\"we_con │\n",
       "│ 12388     ┆ Alberico, ┆ form      ┆ consider  ┆   ┆           ┆ \"PRON\"],  ┆ _form\",   ┆ sider\",  │\n",
       "│           ┆ M.B.      ┆ factors   ┆ ratios of ┆   ┆           ┆ [\"conside ┆ \"factors_ ┆ \"ratios\" │\n",
       "│           ┆ Barbaro,  ┆ of the    ┆ elasti…   ┆   ┆           ┆ r\", …     ┆ of\",…     ┆ , … \".…  │\n",
       "│           ┆ S…        ┆ pr…       ┆           ┆   ┆           ┆           ┆           ┆          │\n",
       "│ astro-ph/ ┆ M.        ┆ Predictio ┆ Spectral  ┆ … ┆ [[\"40\",   ┆ [[\"spectr ┆ [\"predict ┆ [\"spectr │\n",
       "│ 0208171   ┆ Boettcher ┆ ns of the ┆ fitting   ┆   ┆ \"CARDINAL ┆ al\",      ┆ ions\",    ┆ al_fitti │\n",
       "│           ┆ (Rice     ┆ High-Ener ┆ of the    ┆   ┆ \"],       ┆ \"ADJ\"],   ┆ \"of_the\", ┆ ng\",     │\n",
       "│           ┆ Univ. /   ┆ gy…       ┆ radi…     ┆   ┆ [\"100\",   ┆ [\"fittin… ┆ … \"c…     ┆ \"of\", …  │\n",
       "│           ┆ Ohi…      ┆           ┆           ┆   ┆ \"…        ┆           ┆           ┆ \"…       │\n",
       "│ 0912.2788 ┆ Xiaodong  ┆ Inverse   ┆ This      ┆ … ┆ [[\"two\",  ┆ [[\"this\", ┆ [\"inverse ┆ [\"this_p │\n",
       "│           ┆ Liu, Bo   ┆ scatterin ┆ paper is  ┆   ┆ \"CARDINAL ┆ \"DET\"],   ┆ _scatteri ┆ aper\",   │\n",
       "│           ┆ Zhang     ┆ g by an   ┆ concerned ┆   ┆ \"],       ┆ [\"paper\", ┆ ng\",      ┆ \"is_conc │\n",
       "│           ┆           ┆ inhom…    ┆ with…     ┆   ┆ [\"one\", … ┆ \"N…       ┆ \"by_an\"…  ┆ erned\",… │\n",
       "│ …         ┆ …         ┆ …         ┆ …         ┆ … ┆ …         ┆ …         ┆ …         ┆ …        │\n",
       "│ 1809.0935 ┆ Alexander ┆ FCNC      ┆ We        ┆ … ┆ [[\"2hdm\", ┆ [[\"we\",   ┆ [\"fcnc\",  ┆ [\"we_con │\n",
       "│ 8         ┆ Bednyakov ┆ decays of ┆ consider  ┆   ┆ \"CARDINAL ┆ \"PRON\"],  ┆ \"decays\", ┆ sider\",  │\n",
       "│           ┆ and       ┆ the Higgs ┆ flavor-ch ┆   ┆ \"], [\"3\", ┆ [\"conside ┆ …         ┆ \"flavor- │\n",
       "│           ┆ Veroni…   ┆ boson…    ┆ anging …  ┆   ┆ \"…        ┆ r\", …     ┆ \"model\"]  ┆ changi…  │\n",
       "│ 1906.0211 ┆ Yuyu      ┆ Can Graph ┆ Effective ┆ … ┆ [[\"noisy  ┆ [[\"effect ┆ [\"can\",   ┆ [\"effect │\n",
       "│ 1         ┆ Zhang,    ┆ Neural    ┆ ly        ┆   ┆ data\",    ┆ ively\",   ┆ \"graph_ne ┆ ively_co │\n",
       "│           ┆ Xinshi    ┆ Networks  ┆ combining ┆   ┆ \"ORG\"],   ┆ \"ADV\"],   ┆ ural\", …  ┆ mbining\" │\n",
       "│           ┆ Chen,     ┆ Help…     ┆ logic …   ┆   ┆ [\"gnn\"…   ┆ [\"com…    ┆ \"rea…     ┆ , \"log…  │\n",
       "│           ┆ Yuan …    ┆           ┆           ┆   ┆           ┆           ┆           ┆          │\n",
       "│ cs/050404 ┆ David     ┆ Pushdown  ┆ This      ┆ … ┆ [[\"d/2\",  ┆ [[\"this\", ┆ [\"pushdow ┆ [\"this_p │\n",
       "│ 7         ┆ Doty,     ┆ dimension ┆ paper     ┆   ┆ \"PERSON\"] ┆ \"DET\"],   ┆ n\", \"dime ┆ aper\",   │\n",
       "│           ┆ Jared     ┆           ┆ develops  ┆   ┆ ]         ┆ [\"paper\", ┆ nsion\"]   ┆ \"develop │\n",
       "│           ┆ Nichols   ┆           ┆ the theo… ┆   ┆           ┆ \"N…       ┆           ┆ s\", … \"… │\n",
       "│ 2009.1288 ┆ P.        ┆ There is  ┆ We show   ┆ … ┆ [[\"two\",  ┆ [[\"we\",   ┆ [\"there_i ┆ [\"we_sho │\n",
       "│ 9         ┆ Holicky,  ┆ no bound  ┆ that for  ┆   ┆ \"CARDINAL ┆ \"PRON\"],  ┆ s\", \"no\", ┆ w\",      │\n",
       "│           ┆ M. Zeleny ┆ on Borel  ┆ every     ┆   ┆ \"],       ┆ [\"show\",  ┆ … \"theore ┆ \"that\",  │\n",
       "│           ┆           ┆ cla…      ┆ ordin…    ┆   ┆ [\"b(n\", … ┆ \"VER…     ┆ m\"…       ┆ … \".\"]   │\n",
       "│ 1904.0866 ┆ Federico  ┆ An        ┆ The appli ┆ … ┆ [[\"one\",  ┆ [[\"the\",  ┆ [\"an_effi ┆ [\"the\",  │\n",
       "│ 8         ┆ Magliani  ┆ Efficient ┆ cation of ┆   ┆ \"CARDINAL ┆ \"DET\"],   ┆ cient\",   ┆ \"applica │\n",
       "│           ┆ and Kevin ┆ Approxima ┆ the       ┆   ┆ \"], [\"a   ┆ [\"applica ┆ \"approxim ┆ tion_of\" │\n",
       "│           ┆ Mc…       ┆ te kNN G… ┆ diffu…    ┆   ┆ hund…     ┆ tion…     ┆ ate\"…     ┆ , … \".…  │\n",
       "└───────────┴───────────┴───────────┴───────────┴───┴───────────┴───────────┴───────────┴──────────┘"
      ],
      "text/html": [
       "<div><style>\n",
       ".dataframe > thead > tr,\n",
       ".dataframe > tbody > tr {\n",
       "  text-align: right;\n",
       "  white-space: pre-wrap;\n",
       "}\n",
       "</style>\n",
       "<small>shape: (50_000, 20)</small><table border=\"1\" class=\"dataframe\"><thead><tr><th>id</th><th>authors</th><th>title</th><th>abstract</th><th>title_clean</th><th>title_tokens</th><th>title_tokens_no_stop</th><th>title_lemmatized</th><th>title_stemmed</th><th>title_entities</th><th>title_pos_tags</th><th>abstract_clean</th><th>abstract_tokens</th><th>abstract_tokens_no_stop</th><th>abstract_lemmatized</th><th>abstract_stemmed</th><th>abstract_entities</th><th>abstract_pos_tags</th><th>title_phrases</th><th>abstract_phrases</th></tr><tr><td>str</td><td>str</td><td>str</td><td>str</td><td>str</td><td>list[str]</td><td>list[str]</td><td>list[str]</td><td>list[str]</td><td>list[list[str]]</td><td>list[list[str]]</td><td>str</td><td>list[str]</td><td>list[str]</td><td>list[str]</td><td>list[str]</td><td>list[list[str]]</td><td>list[list[str]]</td><td>list[str]</td><td>list[str]</td></tr></thead><tbody><tr><td>&quot;physics/0107021&quot;</td><td>&quot;Adrien Schoof, Jan Gruenert, S…</td><td>&quot;Reducing the linewidth of a di…</td><td>&quot;&nbsp;&nbsp;An extended cavity diode las…</td><td>&quot;reducing the linewidth of a di…</td><td>[&quot;reducing&quot;, &quot;the&quot;, … &quot;10^5&quot;]</td><td>[&quot;reducing&quot;, &quot;linewidth&quot;, … &quot;10^5&quot;]</td><td>[&quot;reduce&quot;, &quot;linewidth&quot;, … &quot;5&quot;]</td><td>[&quot;reduc&quot;, &quot;linewidth&quot;, … &quot;10^5&quot;]</td><td>[[&quot;30&quot;, &quot;CARDINAL&quot;], [&quot;10&quot;, &quot;CARDINAL&quot;]]</td><td>[[&quot;reducing&quot;, &quot;VERB&quot;], [&quot;the&quot;, &quot;DET&quot;], … [&quot;5&quot;, &quot;NUM&quot;]]</td><td>&quot;an extended cavity diode laser…</td><td>[&quot;an&quot;, &quot;extended&quot;, … &quot;.&quot;]</td><td>[&quot;extended&quot;, &quot;cavity&quot;, … &quot;.&quot;]</td><td>[&quot;extend&quot;, &quot;cavity&quot;, … &quot;.&quot;]</td><td>[&quot;extend&quot;, &quot;caviti&quot;, … &quot;.&quot;]</td><td>[[&quot;657&quot;, &quot;CARDINAL&quot;], [&quot;more than 10&quot;, &quot;CARDINAL&quot;], … [&quot;30&quot;, &quot;CARDINAL&quot;]]</td><td>[[&quot;an&quot;, &quot;DET&quot;], [&quot;extended&quot;, &quot;ADJ&quot;], … [&quot;.&quot;, &quot;PUNCT&quot;]]</td><td>[&quot;reducing_the&quot;, &quot;linewidth&quot;, … &quot;10^5&quot;]</td><td>[&quot;an_extended&quot;, &quot;cavity_diode&quot;, … &quot;.&quot;]</td></tr><tr><td>&quot;1606.02306&quot;</td><td>&quot;Shahar Hod&quot;</td><td>&quot;The superradiant instability r…</td><td>&quot;&nbsp;&nbsp;Spinning Kerr black holes ar…</td><td>&quot;the superradiant instability r…</td><td>[&quot;the&quot;, &quot;superradiant&quot;, … &quot;hole&quot;]</td><td>[&quot;superradiant&quot;, &quot;instability&quot;, … &quot;hole&quot;]</td><td>[&quot;superradiant&quot;, &quot;instability&quot;, … &quot;hole&quot;]</td><td>[&quot;superradi&quot;, &quot;instabl&quot;, … &quot;hole&quot;]</td><td>[]</td><td>[[&quot;the&quot;, &quot;DET&quot;], [&quot;superradiant&quot;, &quot;ADJ&quot;], … [&quot;hole&quot;, &quot;NOUN&quot;]]</td><td>&quot;spinning kerr black holes are …</td><td>[&quot;spinning&quot;, &quot;kerr&quot;, … &quot;.&quot;]</td><td>[&quot;spinning&quot;, &quot;kerr&quot;, … &quot;.&quot;]</td><td>[&quot;spin&quot;, &quot;kerr&quot;, … &quot;.&quot;]</td><td>[&quot;spin&quot;, &quot;kerr&quot;, … &quot;.&quot;]</td><td>[[&quot;4&quot;, &quot;CARDINAL&quot;], [&quot;2}}}\\{,m\\}$&quot;, &quot;DATE&quot;]]</td><td>[[&quot;spinning&quot;, &quot;VERB&quot;], [&quot;kerr&quot;, &quot;NOUN&quot;], … [&quot;.&quot;, &quot;PUNCT&quot;]]</td><td>[&quot;the&quot;, &quot;superradiant_instability&quot;, … &quot;hole&quot;]</td><td>[&quot;spinning_kerr&quot;, &quot;black_holes&quot;, … &quot;.&quot;]</td></tr><tr><td>&quot;hep-ph/9812388&quot;</td><td>&quot;W.M. Alberico, M.B. Barbaro, S…</td><td>&quot;Strange form factors of the pr…</td><td>&quot;&nbsp;&nbsp;We consider ratios of elasti…</td><td>&quot;strange form factors of the pr…</td><td>[&quot;strange&quot;, &quot;form&quot;, … &quot;experiment&quot;]</td><td>[&quot;strange&quot;, &quot;form&quot;, … &quot;experiment&quot;]</td><td>[&quot;strange&quot;, &quot;form&quot;, … &quot;experiment&quot;]</td><td>[&quot;strang&quot;, &quot;form&quot;, … &quot;experi&quot;]</td><td>[]</td><td>[[&quot;strange&quot;, &quot;ADJ&quot;], [&quot;form&quot;, &quot;NOUN&quot;], … [&quot;experiment&quot;, &quot;NOUN&quot;]]</td><td>&quot;we consider ratios of elastic …</td><td>[&quot;we&quot;, &quot;consider&quot;, … &quot;.&quot;]</td><td>[&quot;consider&quot;, &quot;ratios&quot;, … &quot;.&quot;]</td><td>[&quot;consider&quot;, &quot;ratio&quot;, … &quot;.&quot;]</td><td>[&quot;consid&quot;, &quot;ratio&quot;, … &quot;.&quot;]</td><td>[]</td><td>[[&quot;we&quot;, &quot;PRON&quot;], [&quot;consider&quot;, &quot;VERB&quot;], … [&quot;.&quot;, &quot;PUNCT&quot;]]</td><td>[&quot;strange_form&quot;, &quot;factors_of&quot;, … &quot;experiment&quot;]</td><td>[&quot;we_consider&quot;, &quot;ratios&quot;, … &quot;.&quot;]</td></tr><tr><td>&quot;astro-ph/0208171&quot;</td><td>&quot;M. Boettcher (Rice Univ. / Ohi…</td><td>&quot;Predictions of the High-Energy…</td><td>&quot;&nbsp;&nbsp;Spectral fitting of the radi…</td><td>&quot;predictions of the high-energy…</td><td>[&quot;predictions&quot;, &quot;of&quot;, … &quot;comae&quot;]</td><td>[&quot;predictions&quot;, &quot;high-energy&quot;, … &quot;comae&quot;]</td><td>[&quot;prediction&quot;, &quot;high&quot;, … &quot;comae&quot;]</td><td>[&quot;predict&quot;, &quot;high-energi&quot;, … &quot;coma&quot;]</td><td>[]</td><td>[[&quot;predictions&quot;, &quot;NOUN&quot;], [&quot;of&quot;, &quot;ADP&quot;], … [&quot;comae&quot;, &quot;PROPN&quot;]]</td><td>&quot;spectral fitting of the radio …</td><td>[&quot;spectral&quot;, &quot;fitting&quot;, … &quot;.&quot;]</td><td>[&quot;spectral&quot;, &quot;fitting&quot;, … &quot;.&quot;]</td><td>[&quot;spectral&quot;, &quot;fit&quot;, … &quot;.&quot;]</td><td>[&quot;spectral&quot;, &quot;fit&quot;, … &quot;.&quot;]</td><td>[[&quot;40&quot;, &quot;CARDINAL&quot;], [&quot;100&quot;, &quot;CARDINAL&quot;], … [&quot;hadronic&quot;, &quot;ORG&quot;]]</td><td>[[&quot;spectral&quot;, &quot;ADJ&quot;], [&quot;fitting&quot;, &quot;NOUN&quot;], … [&quot;.&quot;, &quot;PUNCT&quot;]]</td><td>[&quot;predictions&quot;, &quot;of_the&quot;, … &quot;comae&quot;]</td><td>[&quot;spectral_fitting&quot;, &quot;of&quot;, … &quot;.&quot;]</td></tr><tr><td>&quot;0912.2788&quot;</td><td>&quot;Xiaodong Liu, Bo Zhang&quot;</td><td>&quot;Inverse scattering by an inhom…</td><td>&quot;&nbsp;&nbsp;This paper is concerned with…</td><td>&quot;inverse scattering by an inhom…</td><td>[&quot;inverse&quot;, &quot;scattering&quot;, … &quot;medium&quot;]</td><td>[&quot;inverse&quot;, &quot;scattering&quot;, … &quot;medium&quot;]</td><td>[&quot;inverse&quot;, &quot;scatter&quot;, … &quot;medium&quot;]</td><td>[&quot;invers&quot;, &quot;scatter&quot;, … &quot;medium&quot;]</td><td>[]</td><td>[[&quot;inverse&quot;, &quot;NOUN&quot;], [&quot;scattering&quot;, &quot;NOUN&quot;], … [&quot;medium&quot;, &quot;NOUN&quot;]]</td><td>&quot;this paper is concerned with t…</td><td>[&quot;this&quot;, &quot;paper&quot;, … &quot;.&quot;]</td><td>[&quot;paper&quot;, &quot;concerned&quot;, … &quot;.&quot;]</td><td>[&quot;paper&quot;, &quot;concerned&quot;, … &quot;.&quot;]</td><td>[&quot;paper&quot;, &quot;concern&quot;, … &quot;.&quot;]</td><td>[[&quot;two&quot;, &quot;CARDINAL&quot;], [&quot;one&quot;, &quot;CARDINAL&quot;]]</td><td>[[&quot;this&quot;, &quot;DET&quot;], [&quot;paper&quot;, &quot;NOUN&quot;], … [&quot;.&quot;, &quot;PUNCT&quot;]]</td><td>[&quot;inverse_scattering&quot;, &quot;by_an&quot;, … &quot;medium&quot;]</td><td>[&quot;this_paper&quot;, &quot;is_concerned&quot;, … &quot;.&quot;]</td></tr><tr><td>&hellip;</td><td>&hellip;</td><td>&hellip;</td><td>&hellip;</td><td>&hellip;</td><td>&hellip;</td><td>&hellip;</td><td>&hellip;</td><td>&hellip;</td><td>&hellip;</td><td>&hellip;</td><td>&hellip;</td><td>&hellip;</td><td>&hellip;</td><td>&hellip;</td><td>&hellip;</td><td>&hellip;</td><td>&hellip;</td><td>&hellip;</td><td>&hellip;</td></tr><tr><td>&quot;1809.09358&quot;</td><td>&quot;Alexander Bednyakov and Veroni…</td><td>&quot;FCNC decays of the Higgs boson…</td><td>&quot;&nbsp;&nbsp;We consider flavor-changing …</td><td>&quot;fcnc decays of the higgs boson…</td><td>[&quot;fcnc&quot;, &quot;decays&quot;, … &quot;model&quot;]</td><td>[&quot;fcnc&quot;, &quot;decays&quot;, … &quot;model&quot;]</td><td>[&quot;fcnc&quot;, &quot;decays&quot;, … &quot;model&quot;]</td><td>[&quot;fcnc&quot;, &quot;decay&quot;, … &quot;model&quot;]</td><td>[]</td><td>[[&quot;fcnc&quot;, &quot;PROPN&quot;], [&quot;decays&quot;, &quot;NOUN&quot;], … [&quot;model&quot;, &quot;NOUN&quot;]]</td><td>&quot;we consider flavor-changing de…</td><td>[&quot;we&quot;, &quot;consider&quot;, … &quot;.&quot;]</td><td>[&quot;consider&quot;, &quot;flavor-changing&quot;, … &quot;.&quot;]</td><td>[&quot;consider&quot;, &quot;flavor&quot;, … &quot;.&quot;]</td><td>[&quot;consid&quot;, &quot;flavor-chang&quot;, … &quot;.&quot;]</td><td>[[&quot;2hdm&quot;, &quot;CARDINAL&quot;], [&quot;3&quot;, &quot;CARDINAL&quot;], … [&quot;around 350&quot;, &quot;CARDINAL&quot;]]</td><td>[[&quot;we&quot;, &quot;PRON&quot;], [&quot;consider&quot;, &quot;VERB&quot;], … [&quot;.&quot;, &quot;PUNCT&quot;]]</td><td>[&quot;fcnc&quot;, &quot;decays&quot;, … &quot;model&quot;]</td><td>[&quot;we_consider&quot;, &quot;flavor-changing&quot;, … &quot;.&quot;]</td></tr><tr><td>&quot;1906.02111&quot;</td><td>&quot;Yuyu Zhang, Xinshi Chen, Yuan …</td><td>&quot;Can Graph Neural Networks Help…</td><td>&quot;&nbsp;&nbsp;Effectively combining logic …</td><td>&quot;can graph neural networks help…</td><td>[&quot;can&quot;, &quot;graph&quot;, … &quot;?&quot;]</td><td>[&quot;graph&quot;, &quot;neural&quot;, … &quot;?&quot;]</td><td>[&quot;graph&quot;, &quot;neural&quot;, … &quot;?&quot;]</td><td>[&quot;graph&quot;, &quot;neural&quot;, … &quot;?&quot;]</td><td>[]</td><td>[[&quot;can&quot;, &quot;AUX&quot;], [&quot;graph&quot;, &quot;VERB&quot;], … [&quot;?&quot;, &quot;PUNCT&quot;]]</td><td>&quot;effectively combining logic re…</td><td>[&quot;effectively&quot;, &quot;combining&quot;, … &quot;.&quot;]</td><td>[&quot;effectively&quot;, &quot;combining&quot;, … &quot;.&quot;]</td><td>[&quot;effectively&quot;, &quot;combine&quot;, … &quot;.&quot;]</td><td>[&quot;effect&quot;, &quot;combin&quot;, … &quot;.&quot;]</td><td>[[&quot;noisy data&quot;, &quot;ORG&quot;], [&quot;gnn&quot;, &quot;ORG&quot;]]</td><td>[[&quot;effectively&quot;, &quot;ADV&quot;], [&quot;combining&quot;, &quot;VERB&quot;], … [&quot;.&quot;, &quot;PUNCT&quot;]]</td><td>[&quot;can&quot;, &quot;graph_neural&quot;, … &quot;reasoning_?&quot;]</td><td>[&quot;effectively_combining&quot;, &quot;logic_reasoning&quot;, … &quot;.&quot;]</td></tr><tr><td>&quot;cs/0504047&quot;</td><td>&quot;David Doty, Jared Nichols&quot;</td><td>&quot;Pushdown dimension&quot;</td><td>&quot;&nbsp;&nbsp;This paper develops the theo…</td><td>&quot;pushdown dimension&quot;</td><td>[&quot;pushdown&quot;, &quot;dimension&quot;]</td><td>[&quot;pushdown&quot;, &quot;dimension&quot;]</td><td>[&quot;pushdown&quot;, &quot;dimension&quot;]</td><td>[&quot;pushdown&quot;, &quot;dimens&quot;]</td><td>[]</td><td>[[&quot;pushdown&quot;, &quot;ADJ&quot;], [&quot;dimension&quot;, &quot;NOUN&quot;]]</td><td>&quot;this paper develops the theory…</td><td>[&quot;this&quot;, &quot;paper&quot;, … &quot;.&quot;]</td><td>[&quot;paper&quot;, &quot;develops&quot;, … &quot;.&quot;]</td><td>[&quot;paper&quot;, &quot;develop&quot;, … &quot;.&quot;]</td><td>[&quot;paper&quot;, &quot;develop&quot;, … &quot;.&quot;]</td><td>[[&quot;d/2&quot;, &quot;PERSON&quot;]]</td><td>[[&quot;this&quot;, &quot;DET&quot;], [&quot;paper&quot;, &quot;NOUN&quot;], … [&quot;.&quot;, &quot;PUNCT&quot;]]</td><td>[&quot;pushdown&quot;, &quot;dimension&quot;]</td><td>[&quot;this_paper&quot;, &quot;develops&quot;, … &quot;.&quot;]</td></tr><tr><td>&quot;2009.12889&quot;</td><td>&quot;P. Holicky, M. Zeleny&quot;</td><td>&quot;There is no bound on Borel cla…</td><td>&quot;&nbsp;&nbsp;We show that for every ordin…</td><td>&quot;there is no bound on borel cla…</td><td>[&quot;there&quot;, &quot;is&quot;, … &quot;theorem&quot;]</td><td>[&quot;bound&quot;, &quot;borel&quot;, … &quot;theorem&quot;]</td><td>[&quot;bind&quot;, &quot;borel&quot;, … &quot;theorem&quot;]</td><td>[&quot;bound&quot;, &quot;borel&quot;, … &quot;theorem&quot;]</td><td>[]</td><td>[[&quot;there&quot;, &quot;PRON&quot;], [&quot;is&quot;, &quot;VERB&quot;], … [&quot;theorem&quot;, &quot;NOUN&quot;]]</td><td>&quot;we show that for every ordinal…</td><td>[&quot;we&quot;, &quot;show&quot;, … &quot;.&quot;]</td><td>[&quot;show&quot;, &quot;every&quot;, … &quot;.&quot;]</td><td>[&quot;show&quot;, &quot;every&quot;, … &quot;.&quot;]</td><td>[&quot;show&quot;, &quot;everi&quot;, … &quot;.&quot;]</td><td>[[&quot;two&quot;, &quot;CARDINAL&quot;], [&quot;b(n&quot;, &quot;PERSON&quot;], … [&quot;2^$&quot;, &quot;CARDINAL&quot;]]</td><td>[[&quot;we&quot;, &quot;PRON&quot;], [&quot;show&quot;, &quot;VERB&quot;], … [&quot;.&quot;, &quot;PUNCT&quot;]]</td><td>[&quot;there_is&quot;, &quot;no&quot;, … &quot;theorem&quot;]</td><td>[&quot;we_show&quot;, &quot;that&quot;, … &quot;.&quot;]</td></tr><tr><td>&quot;1904.08668&quot;</td><td>&quot;Federico Magliani and Kevin Mc…</td><td>&quot;An Efficient Approximate kNN G…</td><td>&quot;&nbsp;&nbsp;The application of the diffu…</td><td>&quot;an efficient approximate knn g…</td><td>[&quot;an&quot;, &quot;efficient&quot;, … &quot;retrieval&quot;]</td><td>[&quot;efficient&quot;, &quot;approximate&quot;, … &quot;retrieval&quot;]</td><td>[&quot;efficient&quot;, &quot;approximate&quot;, … &quot;retrieval&quot;]</td><td>[&quot;effici&quot;, &quot;approxim&quot;, … &quot;retriev&quot;]</td><td>[]</td><td>[[&quot;an&quot;, &quot;DET&quot;], [&quot;efficient&quot;, &quot;ADJ&quot;], … [&quot;retrieval&quot;, &quot;NOUN&quot;]]</td><td>&quot;the application of the diffusi…</td><td>[&quot;the&quot;, &quot;application&quot;, … &quot;.&quot;]</td><td>[&quot;application&quot;, &quot;diffusion&quot;, … &quot;.&quot;]</td><td>[&quot;application&quot;, &quot;diffusion&quot;, … &quot;.&quot;]</td><td>[&quot;applic&quot;, &quot;diffus&quot;, … &quot;.&quot;]</td><td>[[&quot;one&quot;, &quot;CARDINAL&quot;], [&quot;a hundred thousand&quot;, &quot;CARDINAL&quot;], [&quot;oxford105k&quot;, &quot;GPE&quot;]]</td><td>[[&quot;the&quot;, &quot;DET&quot;], [&quot;application&quot;, &quot;NOUN&quot;], … [&quot;.&quot;, &quot;PUNCT&quot;]]</td><td>[&quot;an_efficient&quot;, &quot;approximate&quot;, … &quot;image_retrieval&quot;]</td><td>[&quot;the&quot;, &quot;application_of&quot;, … &quot;.&quot;]</td></tr></tbody></table></div>"
      ]
     },
     "execution_count": 10,
     "metadata": {},
     "output_type": "execute_result"
    }
   ],
   "execution_count": 10
  }
 ],
 "metadata": {
  "kernelspec": {
   "display_name": "Python 3",
   "language": "python",
   "name": "python3"
  },
  "language_info": {
   "codemirror_mode": {
    "name": "ipython",
    "version": 2
   },
   "file_extension": ".py",
   "mimetype": "text/x-python",
   "name": "python",
   "nbconvert_exporter": "python",
   "pygments_lexer": "ipython2",
   "version": "2.7.6"
  }
 },
 "nbformat": 4,
 "nbformat_minor": 5
}
